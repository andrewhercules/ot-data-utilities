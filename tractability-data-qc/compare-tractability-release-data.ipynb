{
 "cells": [
  {
   "cell_type": "code",
   "execution_count": 1,
   "metadata": {},
   "outputs": [],
   "source": [
    "# import relevant libraries\n",
    "import csv_diff\n",
    "import pandas.io.json\n",
    "import pandas as pd\n",
    "import datetime\n",
    "import sys\n",
    "import csv"
   ]
  },
  {
   "cell_type": "code",
   "execution_count": 2,
   "metadata": {},
   "outputs": [
    {
     "data": {
      "text/plain": [
       "131072"
      ]
     },
     "execution_count": 2,
     "metadata": {},
     "output_type": "execute_result"
    }
   ],
   "source": [
    "csv.field_size_limit(sys.maxsize)"
   ]
  },
  {
   "cell_type": "code",
   "execution_count": null,
   "metadata": {},
   "outputs": [],
   "source": [
    "# # temporary fix to account for new bucket names in 21.04 release\n",
    "# df = pd.read_csv('data/2102_data_v1.csv')\n",
    "# df = df.rename(columns = {'Bucket_1_sm':'SM_B1_Approved Drug',\n",
    "#                                   'Bucket_2_sm':'SM_B2_Advanced Clinical',\n",
    "#                                   'Bucket_3_sm':'SM_B3_Phase 1 Clinical',\n",
    "#                                   'Bucket_4_sm':'SM_B4_Structure with Ligand',\n",
    "#                                   'Bucket_5_sm':'SM_B5_High-Quality Ligand',\n",
    "#                                   'Bucket_6_sm':'SM_B6_High-Quality Pocket',\n",
    "#                                   'Bucket_7_sm':'SM_B7_Med-Quality Pocket',\n",
    "#                                   'Bucket_8_sm':'SM_B8_Druggable Family',\n",
    "#                                   'Bucket_1_ab':'AB_B1_Approved Drug',\n",
    "#                                   'Bucket_2_ab':'AB_B2_Advanced Clinical',\n",
    "#                                   'Bucket_3_ab':'AB_B3_Phase 1 Clinical',\n",
    "#                                   'Bucket_4_ab':'AB_B4_UniProt loc high conf',\n",
    "#                                   'Bucket_5_ab':'AB_B5_GO CC high conf',\n",
    "#                                   'Bucket_6_ab':'AB_B6_UniProt loc med conf',\n",
    "#                                   'Bucket_7_ab':'AB_B7_UniProt SigP or TMHMM',\n",
    "#                                   'Bucket_8_ab':'AB_B8_GO CC med conf',\n",
    "#                                   'Bucket_9_ab':'AB_B9_Human Protein Atlas loc',\n",
    "#                                   'Bucket_1_PROTAC':'PR_B1_Approved Drug',\n",
    "#                                   'Bucket_2_PROTAC':'PR_B2_Advanced Clinical',\n",
    "#                                   'Bucket_3_PROTAC':'PR_B3_Phase 1 Clinical',\n",
    "#                                   'Bucket_4_PROTAC':'PR_B4_Literature',\n",
    "#                                   'Bucket_5_PROTAC':'PR_B5_UniProt Ubiquitination',\n",
    "#                                   'Bucket_6_PROTAC':'PR_B6_Database Ubiquitination',\n",
    "#                                   'Bucket_7_PROTAC':'PR_B7_Half-life Data',\n",
    "#                                   'Bucket_8_PROTAC':'PR_B8_Small Molecule Binder',\n",
    "#                                   'PROTAC_location_Bucket':'PR_locB_Location Score',\n",
    "#                                   'Bucket_1_othercl':'OC_B1_Approved Drug',\n",
    "#                                   'Bucket_2_othercl':'OC_B2_Advanced Clinical',\n",
    "#                                   'Bucket_3_othercl':'OC_B3_Phase 1 Clinical'\n",
    "#                                  })\n",
    "# df.to_csv('data/2102_data_mapped.csv')"
   ]
  },
  {
   "cell_type": "code",
   "execution_count": 4,
   "metadata": {},
   "outputs": [
    {
     "name": "stdout",
     "output_type": "stream",
     "text": [
      "Records in the previous release data = 19498\n",
      "Records in the current release data = 19486\n",
      "Difference between the number of rows in the two release data files = -12\n"
     ]
    }
   ],
   "source": [
    "# load current and previous release data\n",
    "data_previous_release = csv_diff.load_csv(open('data/21_06_data_v1.csv'), key='ensembl_gene_id')\n",
    "data_current_release = csv_diff.load_csv(open('data/21_09_data_v1.csv'), key='ensembl_gene_id') \n",
    "\n",
    "print(\"Records in the previous release data = %i\" % len(data_previous_release))\n",
    "print(\"Records in the current release data = %i\" % len(data_current_release))\n",
    "\n",
    "difference_in_release_data = len(data_current_release) - len(data_previous_release) \n",
    "print(\"Difference between the number of rows in the two release data files = %i\" % (difference_in_release_data))"
   ]
  },
  {
   "cell_type": "code",
   "execution_count": 5,
   "metadata": {},
   "outputs": [],
   "source": [
    "# run CSV diff on data files (output is JSON as specified in the csv_diff docs)\n",
    "tractability_data_csv_diff_results = csv_diff.compare(data_previous_release, data_current_release)"
   ]
  },
  {
   "cell_type": "code",
   "execution_count": 6,
   "metadata": {},
   "outputs": [
    {
     "name": "stdout",
     "output_type": "stream",
     "text": [
      "Generated tractability diff file with 550 records changed\n"
     ]
    },
    {
     "name": "stderr",
     "output_type": "stream",
     "text": [
      "/anaconda3/lib/python3.6/site-packages/ipykernel_launcher.py:2: FutureWarning: pandas.io.json.json_normalize is deprecated, use pandas.json_normalize instead\n",
      "  \n"
     ]
    }
   ],
   "source": [
    "# convert JSON into DataFrame and save as CSV\n",
    "normalised_csv_diff_data = pandas.io.json.json_normalize(tractability_data_csv_diff_results['changed'])\n",
    "tractability_csv_diff_df = pd.DataFrame.from_dict(normalised_csv_diff_data, orient='columns')\n",
    "print('Generated tractability diff file with %i records changed' % (len(tractability_csv_diff_df)))"
   ]
  },
  {
   "cell_type": "code",
   "execution_count": 7,
   "metadata": {},
   "outputs": [],
   "source": [
    "# generate and save report report\n",
    "today_date = datetime.datetime.now().strftime('%Y-%m-%d')\n",
    "report_directory = 'reports/'\n",
    "report_filename = today_date + '_' + 'tractability_data_csv_diff_report.csv'\n",
    "tractability_csv_diff_df.to_csv(report_directory + report_filename, index=False)"
   ]
  },
  {
   "cell_type": "code",
   "execution_count": 8,
   "metadata": {},
   "outputs": [
    {
     "data": {
      "text/plain": [
       "Index(['key', 'changes.OC_B2_Advanced Clinical',\n",
       "       'changes.OC_B3_Phase 1 Clinical', 'changes.AB_B2_Advanced Clinical',\n",
       "       'changes.OC_B1_Approved Drug', 'changes.SM_B1_Approved Drug',\n",
       "       'changes.SM_B2_Advanced Clinical',\n",
       "       'changes.AB_B4_UniProt loc high conf',\n",
       "       'changes.AB_B6_UniProt loc med conf',\n",
       "       'changes.SM_B4_Structure with Ligand',\n",
       "       'changes.PR_B8_Small Molecule Binder', 'changes.AB_B8_GO CC med conf',\n",
       "       'changes.accession', 'changes.SM_B5_High-Quality Ligand',\n",
       "       'changes.AB_B7_UniProt SigP or TMHMM', 'changes.AB_B3_Phase 1 Clinical',\n",
       "       'changes.SM_B3_Phase 1 Clinical',\n",
       "       'changes.PR_B6_Database Ubiquitination',\n",
       "       'changes.PR_B5_UniProt Ubiquitination', 'changes.symbol',\n",
       "       'changes.PR_B7_Half-life Data', 'changes.AB_B1_Approved Drug',\n",
       "       'changes.AB_B5_GO CC high conf'],\n",
       "      dtype='object')"
      ]
     },
     "execution_count": 8,
     "metadata": {},
     "output_type": "execute_result"
    }
   ],
   "source": [
    "tractability_csv_diff_df.columns"
   ]
  },
  {
   "cell_type": "code",
   "execution_count": 9,
   "metadata": {},
   "outputs": [
    {
     "name": "stdout",
     "output_type": "stream",
     "text": [
      "['key', 'changes.SM_B1_Approved Drug', 'changes.SM_B2_Advanced Clinical', 'changes.SM_B3_Phase 1 Clinical', 'changes.AB_B1_Approved Drug', 'changes.AB_B2_Advanced Clinical', 'changes.AB_B3_Phase 1 Clinical', 'changes.OC_B1_Approved Drug', 'changes.OC_B2_Advanced Clinical', 'changes.OC_B3_Phase 1 Clinical']\n"
     ]
    }
   ],
   "source": [
    "all_clinical_precedence_buckets = [\n",
    "    'changes.SM_B1_Approved Drug',\n",
    "    'changes.SM_B2_Advanced Clinical',\n",
    "    'changes.SM_B3_Phase 1 Clinical',\n",
    "    'changes.AB_B1_Approved Drug',\n",
    "    'changes.AB_B2_Advanced Clinical',\n",
    "    'changes.AB_B3_Phase 1 Clinical',\n",
    "    'changes.OC_B1_Approved Drug',\n",
    "    'changes.OC_B2_Advanced Clinical',\n",
    "    'changes.OC_B3_Phase 1 Clinical',\n",
    "    'changes.PR_B1_Approved Drug'\n",
    "    'changes.PR_B2_Advanced Clinical',\n",
    "    'changes.PR_B3_Phase 1 Clinical'\n",
    "]\n",
    "\n",
    "clinical_predence_buckets_in_csv_diff_file = ['key'] \n",
    "\n",
    "for bucket in all_clinical_precedence_buckets:\n",
    "    if bucket in tractability_csv_diff_df.columns:\n",
    "        clinical_predence_buckets_in_csv_diff_file.append(bucket)\n",
    "\n",
    "print(clinical_predence_buckets_in_csv_diff_file)"
   ]
  },
  {
   "cell_type": "code",
   "execution_count": 10,
   "metadata": {},
   "outputs": [
    {
     "data": {
      "text/html": [
       "<div>\n",
       "<style scoped>\n",
       "    .dataframe tbody tr th:only-of-type {\n",
       "        vertical-align: middle;\n",
       "    }\n",
       "\n",
       "    .dataframe tbody tr th {\n",
       "        vertical-align: top;\n",
       "    }\n",
       "\n",
       "    .dataframe thead th {\n",
       "        text-align: right;\n",
       "    }\n",
       "</style>\n",
       "<table border=\"1\" class=\"dataframe\">\n",
       "  <thead>\n",
       "    <tr style=\"text-align: right;\">\n",
       "      <th></th>\n",
       "      <th>changes.SM_B1_Approved Drug</th>\n",
       "      <th>changes.SM_B2_Advanced Clinical</th>\n",
       "      <th>changes.SM_B3_Phase 1 Clinical</th>\n",
       "      <th>changes.AB_B1_Approved Drug</th>\n",
       "      <th>changes.AB_B2_Advanced Clinical</th>\n",
       "      <th>changes.AB_B3_Phase 1 Clinical</th>\n",
       "      <th>changes.OC_B1_Approved Drug</th>\n",
       "      <th>changes.OC_B2_Advanced Clinical</th>\n",
       "      <th>changes.OC_B3_Phase 1 Clinical</th>\n",
       "    </tr>\n",
       "    <tr>\n",
       "      <th>key</th>\n",
       "      <th></th>\n",
       "      <th></th>\n",
       "      <th></th>\n",
       "      <th></th>\n",
       "      <th></th>\n",
       "      <th></th>\n",
       "      <th></th>\n",
       "      <th></th>\n",
       "      <th></th>\n",
       "    </tr>\n",
       "  </thead>\n",
       "  <tbody>\n",
       "    <tr>\n",
       "      <th>ENSG00000146648</th>\n",
       "      <td>NaN</td>\n",
       "      <td>NaN</td>\n",
       "      <td>NaN</td>\n",
       "      <td>NaN</td>\n",
       "      <td>NaN</td>\n",
       "      <td>NaN</td>\n",
       "      <td>NaN</td>\n",
       "      <td>[0, 1]</td>\n",
       "      <td>NaN</td>\n",
       "    </tr>\n",
       "    <tr>\n",
       "      <th>ENSG00000141736</th>\n",
       "      <td>NaN</td>\n",
       "      <td>NaN</td>\n",
       "      <td>NaN</td>\n",
       "      <td>NaN</td>\n",
       "      <td>NaN</td>\n",
       "      <td>NaN</td>\n",
       "      <td>NaN</td>\n",
       "      <td>[0, 1]</td>\n",
       "      <td>NaN</td>\n",
       "    </tr>\n",
       "    <tr>\n",
       "      <th>ENSG00000198900</th>\n",
       "      <td>NaN</td>\n",
       "      <td>NaN</td>\n",
       "      <td>NaN</td>\n",
       "      <td>NaN</td>\n",
       "      <td>NaN</td>\n",
       "      <td>NaN</td>\n",
       "      <td>NaN</td>\n",
       "      <td>NaN</td>\n",
       "      <td>[0, 1]</td>\n",
       "    </tr>\n",
       "    <tr>\n",
       "      <th>ENSG00000065361</th>\n",
       "      <td>NaN</td>\n",
       "      <td>NaN</td>\n",
       "      <td>NaN</td>\n",
       "      <td>NaN</td>\n",
       "      <td>NaN</td>\n",
       "      <td>NaN</td>\n",
       "      <td>NaN</td>\n",
       "      <td>[0, 1]</td>\n",
       "      <td>NaN</td>\n",
       "    </tr>\n",
       "    <tr>\n",
       "      <th>ENSG00000066468</th>\n",
       "      <td>NaN</td>\n",
       "      <td>NaN</td>\n",
       "      <td>NaN</td>\n",
       "      <td>NaN</td>\n",
       "      <td>[0, 1]</td>\n",
       "      <td>NaN</td>\n",
       "      <td>NaN</td>\n",
       "      <td>NaN</td>\n",
       "      <td>NaN</td>\n",
       "    </tr>\n",
       "  </tbody>\n",
       "</table>\n",
       "</div>"
      ],
      "text/plain": [
       "                changes.SM_B1_Approved Drug changes.SM_B2_Advanced Clinical  \\\n",
       "key                                                                           \n",
       "ENSG00000146648                         NaN                             NaN   \n",
       "ENSG00000141736                         NaN                             NaN   \n",
       "ENSG00000198900                         NaN                             NaN   \n",
       "ENSG00000065361                         NaN                             NaN   \n",
       "ENSG00000066468                         NaN                             NaN   \n",
       "\n",
       "                changes.SM_B3_Phase 1 Clinical changes.AB_B1_Approved Drug  \\\n",
       "key                                                                          \n",
       "ENSG00000146648                            NaN                         NaN   \n",
       "ENSG00000141736                            NaN                         NaN   \n",
       "ENSG00000198900                            NaN                         NaN   \n",
       "ENSG00000065361                            NaN                         NaN   \n",
       "ENSG00000066468                            NaN                         NaN   \n",
       "\n",
       "                changes.AB_B2_Advanced Clinical  \\\n",
       "key                                               \n",
       "ENSG00000146648                             NaN   \n",
       "ENSG00000141736                             NaN   \n",
       "ENSG00000198900                             NaN   \n",
       "ENSG00000065361                             NaN   \n",
       "ENSG00000066468                          [0, 1]   \n",
       "\n",
       "                changes.AB_B3_Phase 1 Clinical changes.OC_B1_Approved Drug  \\\n",
       "key                                                                          \n",
       "ENSG00000146648                            NaN                         NaN   \n",
       "ENSG00000141736                            NaN                         NaN   \n",
       "ENSG00000198900                            NaN                         NaN   \n",
       "ENSG00000065361                            NaN                         NaN   \n",
       "ENSG00000066468                            NaN                         NaN   \n",
       "\n",
       "                changes.OC_B2_Advanced Clinical changes.OC_B3_Phase 1 Clinical  \n",
       "key                                                                             \n",
       "ENSG00000146648                          [0, 1]                            NaN  \n",
       "ENSG00000141736                          [0, 1]                            NaN  \n",
       "ENSG00000198900                             NaN                         [0, 1]  \n",
       "ENSG00000065361                          [0, 1]                            NaN  \n",
       "ENSG00000066468                             NaN                            NaN  "
      ]
     },
     "execution_count": 10,
     "metadata": {},
     "output_type": "execute_result"
    }
   ],
   "source": [
    "tractability_clin_precedence_df = tractability_csv_diff_df.filter(clinical_predence_buckets_in_csv_diff_file)\n",
    "tractability_clin_precedence_df.set_index('key', inplace=True, drop=True)\n",
    "tractability_clin_precedence_df.head()"
   ]
  },
  {
   "cell_type": "code",
   "execution_count": 11,
   "metadata": {},
   "outputs": [
    {
     "data": {
      "text/html": [
       "<div>\n",
       "<style scoped>\n",
       "    .dataframe tbody tr th:only-of-type {\n",
       "        vertical-align: middle;\n",
       "    }\n",
       "\n",
       "    .dataframe tbody tr th {\n",
       "        vertical-align: top;\n",
       "    }\n",
       "\n",
       "    .dataframe thead th {\n",
       "        text-align: right;\n",
       "    }\n",
       "</style>\n",
       "<table border=\"1\" class=\"dataframe\">\n",
       "  <thead>\n",
       "    <tr style=\"text-align: right;\">\n",
       "      <th></th>\n",
       "      <th>changes.SM_B1_Approved Drug</th>\n",
       "      <th>changes.SM_B2_Advanced Clinical</th>\n",
       "      <th>changes.SM_B3_Phase 1 Clinical</th>\n",
       "      <th>changes.AB_B1_Approved Drug</th>\n",
       "      <th>changes.AB_B2_Advanced Clinical</th>\n",
       "      <th>changes.AB_B3_Phase 1 Clinical</th>\n",
       "      <th>changes.OC_B1_Approved Drug</th>\n",
       "      <th>changes.OC_B2_Advanced Clinical</th>\n",
       "      <th>changes.OC_B3_Phase 1 Clinical</th>\n",
       "    </tr>\n",
       "    <tr>\n",
       "      <th>key</th>\n",
       "      <th></th>\n",
       "      <th></th>\n",
       "      <th></th>\n",
       "      <th></th>\n",
       "      <th></th>\n",
       "      <th></th>\n",
       "      <th></th>\n",
       "      <th></th>\n",
       "      <th></th>\n",
       "    </tr>\n",
       "  </thead>\n",
       "  <tbody>\n",
       "    <tr>\n",
       "      <th>ENSG00000146648</th>\n",
       "      <td>NaN</td>\n",
       "      <td>NaN</td>\n",
       "      <td>NaN</td>\n",
       "      <td>NaN</td>\n",
       "      <td>NaN</td>\n",
       "      <td>NaN</td>\n",
       "      <td>NaN</td>\n",
       "      <td>[0, 1]</td>\n",
       "      <td>NaN</td>\n",
       "    </tr>\n",
       "    <tr>\n",
       "      <th>ENSG00000141736</th>\n",
       "      <td>NaN</td>\n",
       "      <td>NaN</td>\n",
       "      <td>NaN</td>\n",
       "      <td>NaN</td>\n",
       "      <td>NaN</td>\n",
       "      <td>NaN</td>\n",
       "      <td>NaN</td>\n",
       "      <td>[0, 1]</td>\n",
       "      <td>NaN</td>\n",
       "    </tr>\n",
       "    <tr>\n",
       "      <th>ENSG00000198900</th>\n",
       "      <td>NaN</td>\n",
       "      <td>NaN</td>\n",
       "      <td>NaN</td>\n",
       "      <td>NaN</td>\n",
       "      <td>NaN</td>\n",
       "      <td>NaN</td>\n",
       "      <td>NaN</td>\n",
       "      <td>NaN</td>\n",
       "      <td>[0, 1]</td>\n",
       "    </tr>\n",
       "    <tr>\n",
       "      <th>ENSG00000065361</th>\n",
       "      <td>NaN</td>\n",
       "      <td>NaN</td>\n",
       "      <td>NaN</td>\n",
       "      <td>NaN</td>\n",
       "      <td>NaN</td>\n",
       "      <td>NaN</td>\n",
       "      <td>NaN</td>\n",
       "      <td>[0, 1]</td>\n",
       "      <td>NaN</td>\n",
       "    </tr>\n",
       "    <tr>\n",
       "      <th>ENSG00000066468</th>\n",
       "      <td>NaN</td>\n",
       "      <td>NaN</td>\n",
       "      <td>NaN</td>\n",
       "      <td>NaN</td>\n",
       "      <td>[0, 1]</td>\n",
       "      <td>NaN</td>\n",
       "      <td>NaN</td>\n",
       "      <td>NaN</td>\n",
       "      <td>NaN</td>\n",
       "    </tr>\n",
       "  </tbody>\n",
       "</table>\n",
       "</div>"
      ],
      "text/plain": [
       "                changes.SM_B1_Approved Drug changes.SM_B2_Advanced Clinical  \\\n",
       "key                                                                           \n",
       "ENSG00000146648                         NaN                             NaN   \n",
       "ENSG00000141736                         NaN                             NaN   \n",
       "ENSG00000198900                         NaN                             NaN   \n",
       "ENSG00000065361                         NaN                             NaN   \n",
       "ENSG00000066468                         NaN                             NaN   \n",
       "\n",
       "                changes.SM_B3_Phase 1 Clinical changes.AB_B1_Approved Drug  \\\n",
       "key                                                                          \n",
       "ENSG00000146648                            NaN                         NaN   \n",
       "ENSG00000141736                            NaN                         NaN   \n",
       "ENSG00000198900                            NaN                         NaN   \n",
       "ENSG00000065361                            NaN                         NaN   \n",
       "ENSG00000066468                            NaN                         NaN   \n",
       "\n",
       "                changes.AB_B2_Advanced Clinical  \\\n",
       "key                                               \n",
       "ENSG00000146648                             NaN   \n",
       "ENSG00000141736                             NaN   \n",
       "ENSG00000198900                             NaN   \n",
       "ENSG00000065361                             NaN   \n",
       "ENSG00000066468                          [0, 1]   \n",
       "\n",
       "                changes.AB_B3_Phase 1 Clinical changes.OC_B1_Approved Drug  \\\n",
       "key                                                                          \n",
       "ENSG00000146648                            NaN                         NaN   \n",
       "ENSG00000141736                            NaN                         NaN   \n",
       "ENSG00000198900                            NaN                         NaN   \n",
       "ENSG00000065361                            NaN                         NaN   \n",
       "ENSG00000066468                            NaN                         NaN   \n",
       "\n",
       "                changes.OC_B2_Advanced Clinical changes.OC_B3_Phase 1 Clinical  \n",
       "key                                                                             \n",
       "ENSG00000146648                          [0, 1]                            NaN  \n",
       "ENSG00000141736                          [0, 1]                            NaN  \n",
       "ENSG00000198900                             NaN                         [0, 1]  \n",
       "ENSG00000065361                          [0, 1]                            NaN  \n",
       "ENSG00000066468                             NaN                            NaN  "
      ]
     },
     "execution_count": 11,
     "metadata": {},
     "output_type": "execute_result"
    }
   ],
   "source": [
    "tractability_clin_precedence_df.dropna(how=\"all\", inplace=True)\n",
    "tractability_clin_precedence_df.head()"
   ]
  },
  {
   "cell_type": "code",
   "execution_count": 12,
   "metadata": {},
   "outputs": [
    {
     "name": "stdout",
     "output_type": "stream",
     "text": [
      "257\n"
     ]
    }
   ],
   "source": [
    "print(len(tractability_clin_precedence_df))"
   ]
  },
  {
   "cell_type": "code",
   "execution_count": 13,
   "metadata": {},
   "outputs": [],
   "source": [
    "today_date = datetime.datetime.now().strftime('%Y-%m-%d')\n",
    "report_directory = 'reports/'\n",
    "report_filename = today_date + '_' + 'tractability_data_clin_prec_only_csv_diff_report.csv'\n",
    "tractability_clin_precedence_df.to_csv(report_directory + report_filename, index=True)"
   ]
  },
  {
   "cell_type": "code",
   "execution_count": null,
   "metadata": {},
   "outputs": [],
   "source": []
  }
 ],
 "metadata": {
  "kernelspec": {
   "display_name": "Python 3",
   "language": "python",
   "name": "python3"
  },
  "language_info": {
   "codemirror_mode": {
    "name": "ipython",
    "version": 3
   },
   "file_extension": ".py",
   "mimetype": "text/x-python",
   "name": "python",
   "nbconvert_exporter": "python",
   "pygments_lexer": "ipython3",
   "version": "3.6.5"
  }
 },
 "nbformat": 4,
 "nbformat_minor": 2
}
