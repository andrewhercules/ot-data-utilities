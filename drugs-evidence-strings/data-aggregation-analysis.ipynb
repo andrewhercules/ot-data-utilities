{
 "cells": [
  {
   "cell_type": "code",
   "execution_count": 1,
   "metadata": {},
   "outputs": [
    {
     "name": "stdout",
     "output_type": "stream",
     "text": [
      "50\n"
     ]
    }
   ],
   "source": [
    "import requests\n",
    "gene_id = 'ENSG00000165269'\n",
    "efo_id = 'EFO_0003843'\n",
    "size = '50'\n",
    "url = (\n",
    "    'https://platform-api.opentargets.io/v3/platform/public/evidence/filter?size=' \n",
    "    + size \n",
    "    + '&datasource=chembl&fields=disease.efo_info&fields=drug&fields=evidence&fields=target&fields=access_level&disease='\n",
    "    + efo_id \n",
    "    + '&expandefo=true'\n",
    ") \n",
    "r = requests.get(url)\n",
    "\n",
    "data = r.json()\n",
    "\n",
    "all_drugs_data = data['data']\n",
    "\n",
    "print(len(all_drugs_data))"
   ]
  },
  {
   "cell_type": "code",
   "execution_count": 3,
   "metadata": {},
   "outputs": [
    {
     "name": "stdout",
     "output_type": "stream",
     "text": [
      "50\n",
      "{'target': 'OPRM1', 'disease': 'pain', 'drug': 'FENTANYL', 'phase': 4, 'status': 'Completed'}\n"
     ]
    }
   ],
   "source": [
    "re = []\n",
    "\n",
    "for entry in all_drugs_data:\n",
    "    target_symbol = entry['target']['gene_info']['symbol']\n",
    "    disease_label = entry['disease']['efo_info']['label']\n",
    "    drug_name = entry['drug']['molecule_name']\n",
    "    drug_phase = entry['evidence']['drug2clinic']['clinical_trial_phase']['numeric_index']\n",
    "    drug_status = entry['evidence']['drug2clinic'].get('status', 'n/a')\n",
    "    drug_obj = {\n",
    "        'target': target_symbol,\n",
    "        'disease': disease_label,\n",
    "        'drug': drug_name,\n",
    "        'phase': drug_phase,\n",
    "        'status': drug_status,\n",
    "    }\n",
    "    aggregated_data.append(drug_obj)\n",
    "\n",
    "print(len(aggregated_data))\n",
    "print(aggregated_data[0])"
   ]
  },
  {
   "cell_type": "code",
   "execution_count": null,
   "metadata": {},
   "outputs": [],
   "source": []
  }
 ],
 "metadata": {
  "kernelspec": {
   "display_name": "Python 3",
   "language": "python",
   "name": "python3"
  },
  "language_info": {
   "codemirror_mode": {
    "name": "ipython",
    "version": 3
   },
   "file_extension": ".py",
   "mimetype": "text/x-python",
   "name": "python",
   "nbconvert_exporter": "python",
   "pygments_lexer": "ipython3",
   "version": "3.6.5"
  }
 },
 "nbformat": 4,
 "nbformat_minor": 2
}
