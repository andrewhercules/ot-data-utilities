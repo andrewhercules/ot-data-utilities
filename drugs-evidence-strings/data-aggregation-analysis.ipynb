{
 "cells": [
  {
   "cell_type": "code",
   "execution_count": 4,
   "metadata": {},
   "outputs": [
    {
     "name": "stdout",
     "output_type": "stream",
     "text": [
      "50\n"
     ]
    }
   ],
   "source": [
    "import requests\n",
    "gene_id = 'ENSG00000165269'\n",
    "efo_id = 'EFO_0003843'\n",
    "size = '50'\n",
    "url = (\n",
    "    'https://platform-api.opentargets.io/v3/platform/public/evidence/filter?size=' \n",
    "    + size \n",
    "    + '&datasource=chembl&fields=disease.efo_info&fields=drug&fields=evidence&fields=target&fields=access_level&disease='\n",
    "    + efo_id \n",
    "    + '&expandefo=true'\n",
    ") \n",
    "r = requests.get(url)\n",
    "\n",
    "data = r.json()\n",
    "\n",
    "all_drugs_data = data['data']\n",
    "\n",
    "print(len(all_drugs_data))"
   ]
  },
  {
   "cell_type": "code",
   "execution_count": 5,
   "metadata": {},
   "outputs": [
    {
     "name": "stdout",
     "output_type": "stream",
     "text": [
      "50\n",
      "{'target': 'OPRM1', 'disease': 'pain', 'drug': 'FENTANYL', 'phase': 4, 'status': 'Completed'}\n"
     ]
    }
   ],
   "source": [
    "drugs_data_simple = []\n",
    "\n",
    "for entry in all_drugs_data:\n",
    "    target_symbol = entry['target']['gene_info']['symbol']\n",
    "    disease_label = entry['disease']['efo_info']['label']\n",
    "    drug_name = entry['drug']['molecule_name']\n",
    "    drug_phase = entry['evidence']['drug2clinic']['clinical_trial_phase']['numeric_index']\n",
    "    drug_status = entry['evidence']['drug2clinic'].get('status', 'n/a')\n",
    "    drug_obj = {\n",
    "        'target': target_symbol,\n",
    "        'disease': disease_label,\n",
    "        'drug': drug_name,\n",
    "        'phase': drug_phase,\n",
    "        'status': drug_status,\n",
    "    }\n",
    "    drugs_data_simple.append(drug_obj)\n",
    "\n",
    "print(len(drugs_data_simple))\n",
    "print(drugs_data_simple[0])"
   ]
  },
  {
   "cell_type": "code",
   "execution_count": 6,
   "metadata": {},
   "outputs": [
    {
     "name": "stdout",
     "output_type": "stream",
     "text": [
      "50\n"
     ]
    },
    {
     "data": {
      "text/html": [
       "<div>\n",
       "<style scoped>\n",
       "    .dataframe tbody tr th:only-of-type {\n",
       "        vertical-align: middle;\n",
       "    }\n",
       "\n",
       "    .dataframe tbody tr th {\n",
       "        vertical-align: top;\n",
       "    }\n",
       "\n",
       "    .dataframe thead th {\n",
       "        text-align: right;\n",
       "    }\n",
       "</style>\n",
       "<table border=\"1\" class=\"dataframe\">\n",
       "  <thead>\n",
       "    <tr style=\"text-align: right;\">\n",
       "      <th></th>\n",
       "      <th>disease</th>\n",
       "      <th>drug</th>\n",
       "      <th>phase</th>\n",
       "      <th>status</th>\n",
       "      <th>target</th>\n",
       "    </tr>\n",
       "  </thead>\n",
       "  <tbody>\n",
       "    <tr>\n",
       "      <th>0</th>\n",
       "      <td>pain</td>\n",
       "      <td>FENTANYL</td>\n",
       "      <td>4</td>\n",
       "      <td>Completed</td>\n",
       "      <td>OPRM1</td>\n",
       "    </tr>\n",
       "    <tr>\n",
       "      <th>1</th>\n",
       "      <td>pain</td>\n",
       "      <td>ETORICOXIB</td>\n",
       "      <td>4</td>\n",
       "      <td>Completed</td>\n",
       "      <td>PTGS2</td>\n",
       "    </tr>\n",
       "    <tr>\n",
       "      <th>2</th>\n",
       "      <td>pain</td>\n",
       "      <td>HYDROMORPHONE</td>\n",
       "      <td>4</td>\n",
       "      <td>n/a</td>\n",
       "      <td>OPRM1</td>\n",
       "    </tr>\n",
       "    <tr>\n",
       "      <th>3</th>\n",
       "      <td>pain</td>\n",
       "      <td>ROPIVACAINE</td>\n",
       "      <td>4</td>\n",
       "      <td>Recruiting</td>\n",
       "      <td>SCN3A</td>\n",
       "    </tr>\n",
       "    <tr>\n",
       "      <th>4</th>\n",
       "      <td>pain</td>\n",
       "      <td>ROPIVACAINE</td>\n",
       "      <td>4</td>\n",
       "      <td>Not yet recruiting</td>\n",
       "      <td>SCN3A</td>\n",
       "    </tr>\n",
       "  </tbody>\n",
       "</table>\n",
       "</div>"
      ],
      "text/plain": [
       "  disease           drug  phase              status target\n",
       "0    pain       FENTANYL      4           Completed  OPRM1\n",
       "1    pain     ETORICOXIB      4           Completed  PTGS2\n",
       "2    pain  HYDROMORPHONE      4                 n/a  OPRM1\n",
       "3    pain    ROPIVACAINE      4          Recruiting  SCN3A\n",
       "4    pain    ROPIVACAINE      4  Not yet recruiting  SCN3A"
      ]
     },
     "execution_count": 6,
     "metadata": {},
     "output_type": "execute_result"
    }
   ],
   "source": [
    "import pandas as pd\n",
    "\n",
    "drugs_df = pd.DataFrame(drugs_data_simple)\n",
    "\n",
    "print(len(drugs_df))\n",
    "drugs_df.head()"
   ]
  },
  {
   "cell_type": "code",
   "execution_count": 7,
   "metadata": {},
   "outputs": [
    {
     "name": "stdout",
     "output_type": "stream",
     "text": [
      "46\n"
     ]
    },
    {
     "data": {
      "text/html": [
       "<div>\n",
       "<style scoped>\n",
       "    .dataframe tbody tr th:only-of-type {\n",
       "        vertical-align: middle;\n",
       "    }\n",
       "\n",
       "    .dataframe tbody tr th {\n",
       "        vertical-align: top;\n",
       "    }\n",
       "\n",
       "    .dataframe thead th {\n",
       "        text-align: right;\n",
       "    }\n",
       "</style>\n",
       "<table border=\"1\" class=\"dataframe\">\n",
       "  <thead>\n",
       "    <tr style=\"text-align: right;\">\n",
       "      <th></th>\n",
       "      <th>disease</th>\n",
       "      <th>drug</th>\n",
       "      <th>phase</th>\n",
       "      <th>status</th>\n",
       "      <th>target</th>\n",
       "      <th>num_ev_strings</th>\n",
       "    </tr>\n",
       "  </thead>\n",
       "  <tbody>\n",
       "    <tr>\n",
       "      <th>0</th>\n",
       "      <td>Renal Colic</td>\n",
       "      <td>ACETAMINOPHEN</td>\n",
       "      <td>4</td>\n",
       "      <td>Suspended</td>\n",
       "      <td>TRPV1</td>\n",
       "      <td>1</td>\n",
       "    </tr>\n",
       "    <tr>\n",
       "      <th>1</th>\n",
       "      <td>Renal Colic</td>\n",
       "      <td>MORPHINE</td>\n",
       "      <td>4</td>\n",
       "      <td>Unknown status</td>\n",
       "      <td>OPRM1</td>\n",
       "      <td>1</td>\n",
       "    </tr>\n",
       "    <tr>\n",
       "      <th>2</th>\n",
       "      <td>back pain</td>\n",
       "      <td>IBUPROFEN</td>\n",
       "      <td>4</td>\n",
       "      <td>Completed</td>\n",
       "      <td>PTGS2</td>\n",
       "      <td>1</td>\n",
       "    </tr>\n",
       "    <tr>\n",
       "      <th>3</th>\n",
       "      <td>chronic pain</td>\n",
       "      <td>CODEINE</td>\n",
       "      <td>4</td>\n",
       "      <td>Withdrawn</td>\n",
       "      <td>OPRM1</td>\n",
       "      <td>1</td>\n",
       "    </tr>\n",
       "    <tr>\n",
       "      <th>4</th>\n",
       "      <td>neuropathic pain</td>\n",
       "      <td>KETAMINE</td>\n",
       "      <td>4</td>\n",
       "      <td>Completed</td>\n",
       "      <td>GRIN2A</td>\n",
       "      <td>1</td>\n",
       "    </tr>\n",
       "  </tbody>\n",
       "</table>\n",
       "</div>"
      ],
      "text/plain": [
       "            disease           drug  phase          status  target  \\\n",
       "0       Renal Colic  ACETAMINOPHEN      4       Suspended   TRPV1   \n",
       "1       Renal Colic       MORPHINE      4  Unknown status   OPRM1   \n",
       "2         back pain      IBUPROFEN      4       Completed   PTGS2   \n",
       "3      chronic pain        CODEINE      4       Withdrawn   OPRM1   \n",
       "4  neuropathic pain       KETAMINE      4       Completed  GRIN2A   \n",
       "\n",
       "   num_ev_strings  \n",
       "0               1  \n",
       "1               1  \n",
       "2               1  \n",
       "3               1  \n",
       "4               1  "
      ]
     },
     "execution_count": 7,
     "metadata": {},
     "output_type": "execute_result"
    }
   ],
   "source": [
    "cols_to_aggregate = ['disease', 'drug', 'phase', 'status', 'target']\n",
    "\n",
    "aggregated_drugs_df = drugs_df.groupby(cols_to_aggregate).size().reset_index(name=\"num_ev_strings\")\n",
    "\n",
    "print(len(aggregated_drugs_df))\n",
    "aggregated_drugs_df.head()"
   ]
  },
  {
   "cell_type": "code",
   "execution_count": null,
   "metadata": {},
   "outputs": [],
   "source": []
  }
 ],
 "metadata": {
  "kernelspec": {
   "display_name": "Python 3",
   "language": "python",
   "name": "python3"
  },
  "language_info": {
   "codemirror_mode": {
    "name": "ipython",
    "version": 3
   },
   "file_extension": ".py",
   "mimetype": "text/x-python",
   "name": "python",
   "nbconvert_exporter": "python",
   "pygments_lexer": "ipython3",
   "version": "3.6.5"
  }
 },
 "nbformat": 4,
 "nbformat_minor": 2
}
