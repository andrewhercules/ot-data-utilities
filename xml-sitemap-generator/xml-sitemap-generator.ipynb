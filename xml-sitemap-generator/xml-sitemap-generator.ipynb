{
 "cells": [
  {
   "cell_type": "markdown",
   "metadata": {},
   "source": [
    "## XML Sitemap Generator\n",
    "\n",
    "This notebook will generate all of the sitemaps that are stored within the Platform webapp ``/sitemap`` directory and linked to the [Platform index sitemap](https://www.targetvalidation.org/sitemaps/1804/index.xml). The index sitemap is the one that we submit to Google, Bing, Yahoo, Yandex, etc. to improve our SEO.\n",
    "\n",
    "This notebook should be **run at least 3 times per year (every other release)** to ensure that search engines are correctly indexing the Platform. \n",
    "\n",
    "Links and documentation:\n",
    "\n",
    "* [JS sitemap generator (stored in webapp repo)](https://github.com/opentargets/webapp/blob/master/sitemap-generator.js)\n",
    "* [Creating XML sitemap from list](https://stackoverflow.com/questions/16681543/create-xml-file-with-python-by-iterating-over-lists)\n",
    "* [ElementTree XML API documentation](https://docs.python.org/3.4/library/xml.etree.elementtree.html#building-xml-documents)\n",
    "* [Sitemap XML format](https://www.sitemaps.org/protocol.html)"
   ]
  },
  {
   "cell_type": "code",
   "execution_count": 2,
   "metadata": {},
   "outputs": [],
   "source": [
    "diseases = [\n",
    "    {\n",
    "        \"efo_id\": \"EFO_0000400\",\n",
    "        \"efo_label\": \"diabetes mellitus\"\n",
    "    }, \n",
    "    {\n",
    "        \"efo_id\": \"EFO_0000305\",\n",
    "        \"efo_label\": \"breast carcinoma\"\n",
    "    },\n",
    "    {\n",
    "        \"efo_id\": \"EFO_0003060\",\n",
    "        \"efo_label\": \"non small cell lung carcinoma\"\n",
    "    },\n",
    "    {\n",
    "        \"efo_id\": \"EFO_0003843\",\n",
    "        \"efo_label\": \"pain\"\n",
    "    },\n",
    "    {\n",
    "        \"efo_id\": \"EFO_0000616\",\n",
    "        \"efo_label\": \"neoplasm\",\n",
    "    },    \n",
    "]\n",
    "\n",
    "targets = [\n",
    "    {\n",
    "        \"ensembl_id\": \"ENSG00000113580\",\n",
    "        \"symbol\": \"NR3C1\"\n",
    "    },\n",
    "    {\n",
    "        \"ensembl_id\": \"ENSG00000146648\",\n",
    "        \"symbol\": \"EGFR\"\n",
    "    },\n",
    "    {\n",
    "        \"ensembl_id\": \"ENSG00000095303\",\n",
    "        \"symbol\": \"PTGS1\"\n",
    "    },\n",
    "\n",
    "    {\n",
    "        \"ensembl_id\": \"ENSG00000131747\",\n",
    "        \"symbol\": \"TOP2A\"\n",
    "    },\n",
    "    {\n",
    "        \"ensembl_id\": \"ENSG00000091831\",\n",
    "        \"symbol\": \"ESR1\"\n",
    "    },  \n",
    "]"
   ]
  },
  {
   "cell_type": "code",
   "execution_count": 5,
   "metadata": {},
   "outputs": [],
   "source": [
    "import xml.etree.ElementTree as ET\n",
    "\n",
    "# create root node\n",
    "urlset = ET.Element(\"urlset\")\n",
    "\n",
    "# set XML standards and validation properties\n",
    "urlset.set(\"xmlns\", \"http://www.sitemaps.org/schemas/sitemap/0.9\")\n",
    "urlset.set(\"xmlns:xsi\", \"http://www.w3.org/2001/XMLSchema-instance\")\n",
    "urlset.set(\"xsi:schemaLocation\", \"http://www.sitemaps.org/schemas/sitemap/0.9 http://www.sitemaps.org/schemas/sitemap/0.9/sitemap.xsd\")\n",
    "\n",
    "#create child nodes of root node using diseases list values\n",
    "for disease in diseases:\n",
    "    url = ET.SubElement(urlset,\"url\")\n",
    "    loc = ET.SubElement(url, \"loc\")\n",
    "    loc.text = \"https://www.targetvalidation.org/disease/\" + disease[\"efo_id\"]\n",
    "\n",
    "\n"
   ]
  },
  {
   "cell_type": "code",
   "execution_count": null,
   "metadata": {},
   "outputs": [],
   "source": []
  }
 ],
 "metadata": {
  "kernelspec": {
   "display_name": "Python 3",
   "language": "python",
   "name": "python3"
  },
  "language_info": {
   "codemirror_mode": {
    "name": "ipython",
    "version": 3
   },
   "file_extension": ".py",
   "mimetype": "text/x-python",
   "name": "python",
   "nbconvert_exporter": "python",
   "pygments_lexer": "ipython3",
   "version": "3.6.5"
  }
 },
 "nbformat": 4,
 "nbformat_minor": 2
}
