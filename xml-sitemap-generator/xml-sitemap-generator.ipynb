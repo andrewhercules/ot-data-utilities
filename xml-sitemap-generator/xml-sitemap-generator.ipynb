{
 "cells": [
  {
   "cell_type": "markdown",
   "metadata": {},
   "source": [
    "## XML Sitemap Generator\n",
    "\n",
    "This notebook will generate all of the sitemaps that are stored within the Platform webapp ``/sitemap`` directory and linked to the [Platform index sitemap](https://www.targetvalidation.org/sitemaps/1804/index.xml). The index sitemap is the one that we submit to Google, Bing, Yahoo, Yandex, etc. to improve our SEO.\n",
    "\n",
    "This notebook should be **run at least 3 times per year (every other release)** to ensure that search engines are correctly indexing the Platform. \n",
    "\n",
    "Links:\n",
    "\n",
    "* [Current \n",
    "* [JS sitemap generator (stored in webapp repo)](https://github.com/opentargets/webapp/blob/master/sitemap-generator.js)\n",
    "* [Creating XML sitemap from list](https://stackoverflow.com/questions/16681543/create-xml-file-with-python-by-iterating-over-lists)\n",
    "* [ElementTree XML API documentation](https://docs.python.org/3.4/library/xml.etree.elementtree.html#building-xml-documents)\n",
    "* [Sitemap XML format](https://www.sitemaps.org/protocol.html)"
   ]
  },
  {
   "cell_type": "code",
   "execution_count": null,
   "metadata": {},
   "outputs": [],
   "source": []
  }
 ],
 "metadata": {
  "kernelspec": {
   "display_name": "Python 3",
   "language": "python",
   "name": "python3"
  },
  "language_info": {
   "codemirror_mode": {
    "name": "ipython",
    "version": 3
   },
   "file_extension": ".py",
   "mimetype": "text/x-python",
   "name": "python",
   "nbconvert_exporter": "python",
   "pygments_lexer": "ipython3",
   "version": "3.6.5"
  }
 },
 "nbformat": 4,
 "nbformat_minor": 2
}
