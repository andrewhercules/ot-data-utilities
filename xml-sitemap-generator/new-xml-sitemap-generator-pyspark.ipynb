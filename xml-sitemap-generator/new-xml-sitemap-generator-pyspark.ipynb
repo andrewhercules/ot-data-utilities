{
 "cells": [
  {
   "cell_type": "code",
   "execution_count": 1,
   "id": "029af29c",
   "metadata": {},
   "outputs": [],
   "source": [
    "from pyspark import SparkConf\n",
    "from pyspark.sql import SparkSession\n",
    "import pyspark.sql.functions as F\n",
    "import pandas as pd\n",
    "import numpy as np\n",
    "import lxml.etree as etree\n",
    "from datetime import datetime"
   ]
  },
  {
   "cell_type": "code",
   "execution_count": 2,
   "id": "1116c7ad",
   "metadata": {},
   "outputs": [],
   "source": [
    "disease_path = \"/Users/ahercules/Desktop/sitemap-generator/data/diseases\"\n",
    "target_path = \"/Users/ahercules/Desktop/sitemap-generator/data/targets\"\n",
    "drug_path = \"/Users/ahercules/Desktop/sitemap-generator/data/molecule\""
   ]
  },
  {
   "cell_type": "code",
   "execution_count": 3,
   "id": "ccc5656a",
   "metadata": {},
   "outputs": [],
   "source": [
    "spark = (\n",
    "    SparkSession.builder\n",
    "    .master('local[*]')\n",
    "    .getOrCreate()\n",
    ")"
   ]
  },
  {
   "cell_type": "code",
   "execution_count": 4,
   "id": "707c2d9e",
   "metadata": {},
   "outputs": [],
   "source": [
    "disease_data = spark.read.parquet(disease_path)\n",
    "target_data = spark.read.parquet(target_path)\n",
    "drug_data = spark.read.parquet(drug_path)"
   ]
  },
  {
   "cell_type": "code",
   "execution_count": 5,
   "id": "22f28bad",
   "metadata": {},
   "outputs": [],
   "source": [
    "# disease_list = (disease_data.select(\"id\"))\n",
    "# target_list = (target_data.select(\"id\"))\n",
    "# drug_list = (drug_data.select(\"id\"))\n",
    "# print(\"Number of diseases: %i\" % disease_list.count())\n",
    "# print(\"Number of targets: %i\" % target_list.count())\n",
    "# print(\"Number of drugs: %i\" % drug_list.count())"
   ]
  },
  {
   "cell_type": "code",
   "execution_count": 6,
   "id": "c8c21e2b",
   "metadata": {},
   "outputs": [],
   "source": [
    "# generate list of IDs for targets, diseases, and drugs\n",
    "disease_id_list = list((disease_data.select(\"id\")).toPandas()['id'])\n",
    "target_id_list = list((target_data.select(\"id\")).toPandas()['id'])\n",
    "drug_id_list = list((drug_data.select(\"id\")).toPandas()['id'])"
   ]
  },
  {
   "cell_type": "code",
   "execution_count": 7,
   "id": "b4fbd0a6",
   "metadata": {},
   "outputs": [],
   "source": [
    "# split target list into two smaller lists (sitemaps can have max 50,000 URLs)\n",
    "middle_index = (len(target_id_list))//2\n",
    "target_id_list_part_1 = target_id_list[:middle_index]\n",
    "target_id_list_part_2 = target_id_list[middle_index:]"
   ]
  },
  {
   "cell_type": "code",
   "execution_count": 8,
   "id": "2baf12bc",
   "metadata": {},
   "outputs": [
    {
     "name": "stdout",
     "output_type": "stream",
     "text": [
      "Number of diseases: 18497\n",
      "Number of targets in part 1: 30304\n",
      "Number of targets in part 2: 30304\n",
      "Number of drugs: 13076\n"
     ]
    }
   ],
   "source": [
    "print(\"Number of diseases: %i\" % len(disease_id_list))\n",
    "print(\"Number of targets in part 1: %i\" % len(target_id_list_part_1))\n",
    "print(\"Number of targets in part 2: %i\" % len(target_id_list_part_2))\n",
    "print(\"Number of drugs: %i\" % len(drug_id_list))"
   ]
  },
  {
   "cell_type": "code",
   "execution_count": 9,
   "id": "adacb15e",
   "metadata": {},
   "outputs": [],
   "source": [
    "# determine current date and format in YYYY-MM-DD format\n",
    "today_date = datetime.today().strftime('%Y-%m-%d')"
   ]
  },
  {
   "cell_type": "code",
   "execution_count": 10,
   "id": "d128f558",
   "metadata": {},
   "outputs": [],
   "source": [
    "def create_profile_page_sitemaps(entity, list_part, list_of_entity_ids):\n",
    "    \n",
    "    # create <urlset> root and set attribute values\n",
    "    attribute_qname = etree.QName(\"http://www.w3.org/2001/XMLSchema-instance\", \"schemaLocation\")\n",
    "    namespace_mappings = {\n",
    "        \"xsi\": \"http://www.w3.org/2001/XMLSchema-instance\",\n",
    "        None: \"http://www.sitemaps.org/schemas/sitemap/0.9\"\n",
    "    }\n",
    "    urlset = etree.Element(\"urlset\",\n",
    "                           {attribute_qname: \"http://www.sitemaps.org/schemas/sitemap/0.9 http://www.sitemaps.org/schemas/sitemap/0.9/sitemap.xsd\"},\n",
    "                           nsmap=namespace_mappings\n",
    "                          )\n",
    "\n",
    "    # iterate through lists of IDs for targets, diseases, or drug\n",
    "    for entity_id in list_of_entity_ids:\n",
    "        \n",
    "        # create <url> and <loc> elements\n",
    "        url = etree.SubElement(urlset,\"url\")\n",
    "        loc = etree.SubElement(url, \"loc\")\n",
    "             \n",
    "        # set <loc> element text\n",
    "        loc.text = \"https://platform.opentargets.org\" + \"/\" + entity + \"/\" + entity_id\n",
    "        \n",
    "        #create <lastmod> element\n",
    "        lastmod = etree.SubElement(url, \"lastmod\")\n",
    "        lastmod.text = today_date\n",
    "    \n",
    "    # set XML sitemap filename\n",
    "    sitemap_filename = entity + \"_\" + \"profile_pages\" + \"_\" + list_part + \".xml\"\n",
    "    \n",
    "    # create and save XML file\n",
    "    xml_tree_raw = etree.ElementTree(urlset)\n",
    "    with open(\"sitemaps/\" + sitemap_filename, \"wb\") as xml_file:\n",
    "        xml_file.write(etree.tostring(xml_tree_raw, xml_declaration=True, encoding=\"UTF-8\", pretty_print=True))\n",
    "    \n",
    "    print(\"Created \" + sitemap_filename + \" sitemap\")"
   ]
  },
  {
   "cell_type": "code",
   "execution_count": 11,
   "id": "47c21541",
   "metadata": {},
   "outputs": [
    {
     "name": "stdout",
     "output_type": "stream",
     "text": [
      "Created disease_profile_pages_part_1.xml sitemap\n",
      "Created drug_profile_pages_part_1.xml sitemap\n",
      "Created target_profile_pages_part_1.xml sitemap\n",
      "Created target_profile_pages_part_2.xml sitemap\n"
     ]
    }
   ],
   "source": [
    "create_profile_page_sitemaps(\"disease\", \"part_1\", disease_id_list)\n",
    "create_profile_page_sitemaps(\"drug\", \"part_1\", drug_id_list)\n",
    "create_profile_page_sitemaps(\"target\", \"part_1\", target_id_list_part_1)\n",
    "create_profile_page_sitemaps(\"target\", \"part_2\", target_id_list_part_2)"
   ]
  },
  {
   "cell_type": "code",
   "execution_count": 12,
   "id": "1eb013a5",
   "metadata": {},
   "outputs": [],
   "source": [
    "def create_association_page_sitemaps(entity, list_part, list_of_entity_ids):\n",
    "    \n",
    "    # create <urlset> root and set attribute values\n",
    "    attribute_qname = etree.QName(\"http://www.w3.org/2001/XMLSchema-instance\", \"schemaLocation\")\n",
    "    namespace_mappings = {\n",
    "        \"xsi\": \"http://www.w3.org/2001/XMLSchema-instance\",\n",
    "        None: \"http://www.sitemaps.org/schemas/sitemap/0.9\"\n",
    "    }\n",
    "    urlset = etree.Element(\"urlset\",\n",
    "                           {attribute_qname: \"http://www.sitemaps.org/schemas/sitemap/0.9 http://www.sitemaps.org/schemas/sitemap/0.9/sitemap.xsd\"},\n",
    "                           nsmap=namespace_mappings\n",
    "                          )\n",
    "\n",
    "    # iterate through lists of IDs for targets, diseases, or drug\n",
    "    for entity_id in list_of_entity_ids:\n",
    "        \n",
    "        # create <url> and <loc> elements\n",
    "        url = etree.SubElement(urlset,\"url\")\n",
    "        loc = etree.SubElement(url, \"loc\")\n",
    "             \n",
    "        # set <loc> element text\n",
    "        loc.text = \"https://platform.opentargets.org\" + \"/\" + entity + \"/\" + entity_id + \"/\" + \"associations\"\n",
    "        \n",
    "        #create <lastmod> element\n",
    "        lastmod = etree.SubElement(url, \"lastmod\")\n",
    "        lastmod.text = today_date\n",
    "    \n",
    "    # set XML sitemap filename\n",
    "    sitemap_filename = entity + \"_\" + \"association_pages\" + \"_\" + list_part + \".xml\"\n",
    "    \n",
    "    # create and save XML file\n",
    "    xml_tree_raw = etree.ElementTree(urlset)\n",
    "    with open(\"sitemaps/\" + sitemap_filename, \"wb\") as xml_file:\n",
    "        xml_file.write(etree.tostring(xml_tree_raw, xml_declaration=True, encoding=\"UTF-8\", pretty_print=True))\n",
    "    \n",
    "    print(\"Created \" + sitemap_filename + \" sitemap\")"
   ]
  },
  {
   "cell_type": "code",
   "execution_count": 13,
   "id": "ad526e28",
   "metadata": {},
   "outputs": [
    {
     "name": "stdout",
     "output_type": "stream",
     "text": [
      "Created disease_association_pages_part_1.xml sitemap\n",
      "Created target_association_pages_part_1.xml sitemap\n",
      "Created target_association_pages_part_2.xml sitemap\n"
     ]
    }
   ],
   "source": [
    "create_association_page_sitemaps(\"disease\", \"part_1\", disease_id_list)\n",
    "create_association_page_sitemaps(\"target\", \"part_1\", target_id_list_part_1)\n",
    "create_association_page_sitemaps(\"target\", \"part_2\", target_id_list_part_2)"
   ]
  },
  {
   "cell_type": "code",
   "execution_count": null,
   "id": "1f64314d",
   "metadata": {},
   "outputs": [],
   "source": []
  }
 ],
 "metadata": {
  "kernelspec": {
   "display_name": "Python 3",
   "language": "python",
   "name": "python3"
  },
  "language_info": {
   "codemirror_mode": {
    "name": "ipython",
    "version": 3
   },
   "file_extension": ".py",
   "mimetype": "text/x-python",
   "name": "python",
   "nbconvert_exporter": "python",
   "pygments_lexer": "ipython3",
   "version": "3.9.4"
  }
 },
 "nbformat": 4,
 "nbformat_minor": 5
}
