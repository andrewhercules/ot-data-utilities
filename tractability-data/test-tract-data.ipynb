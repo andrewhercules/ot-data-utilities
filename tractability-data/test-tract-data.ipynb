{
 "cells": [
  {
   "cell_type": "code",
   "execution_count": 1,
   "metadata": {},
   "outputs": [],
   "source": [
    "# import libraries\n",
    "from csv_diff import load_csv, compare\n",
    "from pandas.io.json import json_normalize\n",
    "import pandas as pd\n",
    "import time"
   ]
  },
  {
   "cell_type": "code",
   "execution_count": 24,
   "metadata": {},
   "outputs": [
    {
     "name": "stdout",
     "output_type": "stream",
     "text": [
      "Generated tractability diff file in 2.069908 seconds with 724 records changed\n"
     ]
    }
   ],
   "source": [
    "# set start time\n",
    "start = time.time()\n",
    "\n",
    "# load 1904 and 1906 data\n",
    "data_1904 = load_csv(open(\"1904.csv\"), key=\"ensembl_gene_id\")\n",
    "data_1909 = load_csv(open(\"1909_data_v2.csv\"), key=\"ensembl_gene_id\") \n",
    "\n",
    "# print(len(data_1904))\n",
    "# print(len(data_1909))\n",
    "\n",
    "# run diff on 1904 and 1906 data (note: output is JSON as specified in the csv_diff docs)\n",
    "tract_csv_diff = compare(data_1904, data_1909)\n",
    "\n",
    "\n",
    "# convert JSON into DataFrame and save as CSV\n",
    "tract_diff_df = pd.DataFrame.from_dict(json_normalize(tract_csv_diff['changed']), orient='columns')\n",
    "tract_diff_df.to_csv('1904_vs_1909_v2_diff_results.csv')\n",
    "\n",
    "# set end time\n",
    "end = time.time()\n",
    "\n",
    "# print time taken\n",
    "print('Generated tractability diff file in %f seconds with %i records changed' % ((end - start), len(tract_diff_df)))"
   ]
  },
  {
   "cell_type": "code",
   "execution_count": 25,
   "metadata": {},
   "outputs": [],
   "source": [
    "# data_1909['ENSG00000164344']"
   ]
  },
  {
   "cell_type": "code",
   "execution_count": 26,
   "metadata": {},
   "outputs": [
    {
     "name": "stdout",
     "output_type": "stream",
     "text": [
      "Value counts for changes.Bucket_4\n",
      "nan     462\n",
      "0, 1    172\n",
      "1, 0     90\n",
      "Name: changes.Bucket_4, dtype: int64\n",
      "*****\n",
      "\n",
      "Value counts for changes.Bucket_4_ab\n",
      "nan     660\n",
      "0, 1     61\n",
      "1, 0      3\n",
      "Name: changes.Bucket_4_ab, dtype: int64\n",
      "*****\n",
      "\n",
      "Value counts for changes.Bucket_5_ab\n",
      "nan     672\n",
      "1, 0     41\n",
      "0, 1     11\n",
      "Name: changes.Bucket_5_ab, dtype: int64\n",
      "*****\n",
      "\n",
      "Value counts for changes.Bucket_6_ab\n",
      "nan     682\n",
      "1, 0     28\n",
      "0, 1     14\n",
      "Name: changes.Bucket_6_ab, dtype: int64\n",
      "*****\n",
      "\n",
      "Value counts for changes.Bucket_7\n",
      "nan     620\n",
      "0, 1    102\n",
      "1, 0      2\n",
      "Name: changes.Bucket_7, dtype: int64\n",
      "*****\n",
      "\n",
      "Value counts for changes.Bucket_7_ab\n",
      "nan     720\n",
      "1, 0      3\n",
      "0, 1      1\n",
      "Name: changes.Bucket_7_ab, dtype: int64\n",
      "*****\n",
      "\n",
      "Value counts for changes.Bucket_8_ab\n",
      "nan     465\n",
      "1, 0    199\n",
      "0, 1     60\n",
      "Name: changes.Bucket_8_ab, dtype: int64\n",
      "*****\n",
      "\n"
     ]
    }
   ],
   "source": [
    "clinical_precedence_buckets = [\n",
    "    'changes.Bucket_4', \n",
    "    'changes.Bucket_4_ab', \n",
    "    'changes.Bucket_5_ab',\n",
    "    'changes.Bucket_6_ab',\n",
    "    'changes.Bucket_7',\n",
    "    'changes.Bucket_7_ab',\n",
    "    'changes.Bucket_8_ab', \n",
    "]\n",
    "\n",
    "for bucket in clinical_precedence_buckets:\n",
    "    print('Value counts for ' + bucket)\n",
    "    print(tract_diff_df[bucket].astype(str).str.replace('\\[|\\]|\\'', '').value_counts())\n",
    "    print('*****\\n')"
   ]
  },
  {
   "cell_type": "code",
   "execution_count": null,
   "metadata": {},
   "outputs": [],
   "source": []
  }
 ],
 "metadata": {
  "kernelspec": {
   "display_name": "Python 3",
   "language": "python",
   "name": "python3"
  },
  "language_info": {
   "codemirror_mode": {
    "name": "ipython",
    "version": 3
   },
   "file_extension": ".py",
   "mimetype": "text/x-python",
   "name": "python",
   "nbconvert_exporter": "python",
   "pygments_lexer": "ipython3",
   "version": "3.6.5"
  }
 },
 "nbformat": 4,
 "nbformat_minor": 2
}
