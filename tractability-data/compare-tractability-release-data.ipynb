{
 "cells": [
  {
   "cell_type": "code",
   "execution_count": 1,
   "metadata": {},
   "outputs": [],
   "source": [
    "# import relevant libraries\n",
    "import csv_diff\n",
    "import pandas.io.json\n",
    "import pandas as pd\n",
    "import datetime\n",
    "import sys\n",
    "import csv"
   ]
  },
  {
   "cell_type": "code",
   "execution_count": 2,
   "metadata": {},
   "outputs": [
    {
     "data": {
      "text/plain": [
       "131072"
      ]
     },
     "execution_count": 2,
     "metadata": {},
     "output_type": "execute_result"
    }
   ],
   "source": [
    "csv.field_size_limit(sys.maxsize)"
   ]
  },
  {
   "cell_type": "code",
   "execution_count": 3,
   "metadata": {},
   "outputs": [
    {
     "name": "stdout",
     "output_type": "stream",
     "text": [
      "Records in the previous release data = 15157\n",
      "Records in the current release data = 60564\n",
      "Difference between the number of rows in the two release data files = 45407\n"
     ]
    }
   ],
   "source": [
    "# load current and previous release data\n",
    "data_previous_release = csv_diff.load_csv(open('data/2002_data_v2.csv'), key='ensembl_gene_id')\n",
    "data_current_release = csv_diff.load_csv(open('data/20_04_data_v1.csv'), key='ensembl_gene_id') \n",
    "\n",
    "print(\"Records in the previous release data = %i\" % len(data_previous_release))\n",
    "print(\"Records in the current release data = %i\" % len(data_current_release))\n",
    "\n",
    "difference_in_release_data = len(data_current_release) - len(data_previous_release) \n",
    "print(\"Difference between the number of rows in the two release data files = %i\" % (difference_in_release_data))"
   ]
  },
  {
   "cell_type": "code",
   "execution_count": 4,
   "metadata": {},
   "outputs": [],
   "source": [
    "# run CSV diff on data files (output is JSON as specified in the csv_diff docs)\n",
    "tractability_data_csv_diff_results = csv_diff.compare(data_previous_release, data_current_release)"
   ]
  },
  {
   "cell_type": "code",
   "execution_count": 5,
   "metadata": {},
   "outputs": [
    {
     "name": "stdout",
     "output_type": "stream",
     "text": [
      "Generated tractability diff file with 15157 records changed\n"
     ]
    }
   ],
   "source": [
    "# convert JSON into DataFrame and save as CSV\n",
    "normalised_csv_diff_data = pandas.io.json.json_normalize(tractability_data_csv_diff_results['changed'])\n",
    "tractability_csv_diff_df = pd.DataFrame.from_dict(normalised_csv_diff_data, orient='columns')\n",
    "print('Generated tractability diff file with %i records changed' % (len(tractability_csv_diff_df)))"
   ]
  },
  {
   "cell_type": "code",
   "execution_count": 6,
   "metadata": {},
   "outputs": [],
   "source": [
    "# generate and save report report\n",
    "today_date = datetime.datetime.now().strftime('%Y-%m-%d')\n",
    "report_directory = 'reports/'\n",
    "report_filename = today_date + '_' + 'tractability_data_csv_diff_report.csv'\n",
    "tractability_csv_diff_df.to_csv(report_directory + report_filename, index=False)"
   ]
  },
  {
   "cell_type": "code",
   "execution_count": 7,
   "metadata": {},
   "outputs": [
    {
     "data": {
      "text/plain": [
       "Index(['changes.Bcell_mean', 'changes.Bucket_2_ab', 'changes.Bucket_3_ab',\n",
       "       'changes.Bucket_4_ab', 'changes.Bucket_4_sm', 'changes.Bucket_6_ab',\n",
       "       'changes.Bucket_7_ab', 'changes.Bucket_8_PROTAC',\n",
       "       'changes.Bucket_9_PROTAC', 'changes.Bucket_sum_PROTAC',\n",
       "       'changes.Bucket_sum_ab', 'changes.Category_ab',\n",
       "       'changes.Clinical_Precedence_ab', 'changes.Hepatocytes_mean',\n",
       "       'changes.High_Quality_ChEMBL_compounds', 'changes.Max_halflife',\n",
       "       'changes.MouseNeuorons_mean', 'changes.NKcell_mean',\n",
       "       'changes.PDB_Known_Ligand', 'changes.PROTAC_location_Bucket',\n",
       "       'changes.Signal_peptide', 'changes.Top_bucket_PROTAC',\n",
       "       'changes.Top_bucket_ab', 'changes.Transmembrane',\n",
       "       'changes.Uniprot_high_conf_loc', 'changes.Uniprot_med_conf_loc',\n",
       "       'changes.full_id', 'changes.number_of_ubiquitination_sites',\n",
       "       'changes.symbol', 'key'],\n",
       "      dtype='object')"
      ]
     },
     "execution_count": 7,
     "metadata": {},
     "output_type": "execute_result"
    }
   ],
   "source": [
    "tractability_csv_diff_df.columns"
   ]
  },
  {
   "cell_type": "code",
   "execution_count": 8,
   "metadata": {},
   "outputs": [
    {
     "name": "stdout",
     "output_type": "stream",
     "text": [
      "['key', 'changes.Bucket_2_ab', 'changes.Bucket_3_ab']\n"
     ]
    }
   ],
   "source": [
    "all_clinical_precedence_buckets = [\n",
    "    'changes.Bucket_1_sm',\n",
    "    'changes.Bucket_1_ab',\n",
    "    'changes.Bucket_2_sm',\n",
    "    'changes.Bucket_2_ab',\n",
    "    'changes.Bucket_3_sm',\n",
    "    'changes.Bucket_3_ab'\n",
    "]\n",
    "\n",
    "clinical_predence_buckets_in_csv_diff_file = ['key'] \n",
    "\n",
    "for bucket in all_clinical_precedence_buckets:\n",
    "    if bucket in tractability_csv_diff_df.columns:\n",
    "        clinical_predence_buckets_in_csv_diff_file.append(bucket)\n",
    "\n",
    "print(clinical_predence_buckets_in_csv_diff_file)"
   ]
  },
  {
   "cell_type": "code",
   "execution_count": 10,
   "metadata": {},
   "outputs": [
    {
     "data": {
      "text/html": [
       "<div>\n",
       "<style scoped>\n",
       "    .dataframe tbody tr th:only-of-type {\n",
       "        vertical-align: middle;\n",
       "    }\n",
       "\n",
       "    .dataframe tbody tr th {\n",
       "        vertical-align: top;\n",
       "    }\n",
       "\n",
       "    .dataframe thead th {\n",
       "        text-align: right;\n",
       "    }\n",
       "</style>\n",
       "<table border=\"1\" class=\"dataframe\">\n",
       "  <thead>\n",
       "    <tr style=\"text-align: right;\">\n",
       "      <th></th>\n",
       "      <th>changes.Bucket_2_ab</th>\n",
       "      <th>changes.Bucket_3_ab</th>\n",
       "    </tr>\n",
       "    <tr>\n",
       "      <th>key</th>\n",
       "      <th></th>\n",
       "      <th></th>\n",
       "    </tr>\n",
       "  </thead>\n",
       "  <tbody>\n",
       "    <tr>\n",
       "      <th>ENSG00000128052</th>\n",
       "      <td>NaN</td>\n",
       "      <td>NaN</td>\n",
       "    </tr>\n",
       "    <tr>\n",
       "      <th>ENSG00000146648</th>\n",
       "      <td>NaN</td>\n",
       "      <td>NaN</td>\n",
       "    </tr>\n",
       "    <tr>\n",
       "      <th>ENSG00000141736</th>\n",
       "      <td>NaN</td>\n",
       "      <td>NaN</td>\n",
       "    </tr>\n",
       "    <tr>\n",
       "      <th>ENSG00000005844</th>\n",
       "      <td>NaN</td>\n",
       "      <td>NaN</td>\n",
       "    </tr>\n",
       "    <tr>\n",
       "      <th>ENSG00000140443</th>\n",
       "      <td>NaN</td>\n",
       "      <td>NaN</td>\n",
       "    </tr>\n",
       "  </tbody>\n",
       "</table>\n",
       "</div>"
      ],
      "text/plain": [
       "                changes.Bucket_2_ab changes.Bucket_3_ab\n",
       "key                                                    \n",
       "ENSG00000128052                 NaN                 NaN\n",
       "ENSG00000146648                 NaN                 NaN\n",
       "ENSG00000141736                 NaN                 NaN\n",
       "ENSG00000005844                 NaN                 NaN\n",
       "ENSG00000140443                 NaN                 NaN"
      ]
     },
     "execution_count": 10,
     "metadata": {},
     "output_type": "execute_result"
    }
   ],
   "source": [
    "tractability_clin_precedence_df = tractability_csv_diff_df.filter(clinical_predence_buckets_in_csv_diff_file)\n",
    "tractability_clin_precedence_df.set_index('key', inplace=True, drop=True)\n",
    "tractability_clin_precedence_df.head()"
   ]
  },
  {
   "cell_type": "code",
   "execution_count": 11,
   "metadata": {},
   "outputs": [
    {
     "data": {
      "text/html": [
       "<div>\n",
       "<style scoped>\n",
       "    .dataframe tbody tr th:only-of-type {\n",
       "        vertical-align: middle;\n",
       "    }\n",
       "\n",
       "    .dataframe tbody tr th {\n",
       "        vertical-align: top;\n",
       "    }\n",
       "\n",
       "    .dataframe thead th {\n",
       "        text-align: right;\n",
       "    }\n",
       "</style>\n",
       "<table border=\"1\" class=\"dataframe\">\n",
       "  <thead>\n",
       "    <tr style=\"text-align: right;\">\n",
       "      <th></th>\n",
       "      <th>changes.Bucket_2_ab</th>\n",
       "      <th>changes.Bucket_3_ab</th>\n",
       "    </tr>\n",
       "    <tr>\n",
       "      <th>key</th>\n",
       "      <th></th>\n",
       "      <th></th>\n",
       "    </tr>\n",
       "  </thead>\n",
       "  <tbody>\n",
       "    <tr>\n",
       "      <th>ENSG00000182578</th>\n",
       "      <td>[1, 0]</td>\n",
       "      <td>[0, 1]</td>\n",
       "    </tr>\n",
       "    <tr>\n",
       "      <th>ENSG00000134352</th>\n",
       "      <td>[1, 0]</td>\n",
       "      <td>NaN</td>\n",
       "    </tr>\n",
       "  </tbody>\n",
       "</table>\n",
       "</div>"
      ],
      "text/plain": [
       "                changes.Bucket_2_ab changes.Bucket_3_ab\n",
       "key                                                    \n",
       "ENSG00000182578              [1, 0]              [0, 1]\n",
       "ENSG00000134352              [1, 0]                 NaN"
      ]
     },
     "execution_count": 11,
     "metadata": {},
     "output_type": "execute_result"
    }
   ],
   "source": [
    "tractability_clin_precedence_df.dropna(how=\"all\", inplace=True)\n",
    "tractability_clin_precedence_df.head()"
   ]
  },
  {
   "cell_type": "code",
   "execution_count": 12,
   "metadata": {},
   "outputs": [
    {
     "name": "stdout",
     "output_type": "stream",
     "text": [
      "2\n"
     ]
    }
   ],
   "source": [
    "print(len(tractability_clin_precedence_df))"
   ]
  },
  {
   "cell_type": "code",
   "execution_count": 13,
   "metadata": {},
   "outputs": [],
   "source": [
    "today_date = datetime.datetime.now().strftime('%Y-%m-%d')\n",
    "report_directory = 'reports/'\n",
    "report_filename = today_date + '_' + 'tractability_data_clin_prec_only_csv_diff_report.csv'\n",
    "tractability_clin_precedence_df.to_csv(report_directory + report_filename, index=True)"
   ]
  },
  {
   "cell_type": "code",
   "execution_count": null,
   "metadata": {},
   "outputs": [],
   "source": []
  }
 ],
 "metadata": {
  "kernelspec": {
   "display_name": "Python 3",
   "language": "python",
   "name": "python3"
  },
  "language_info": {
   "codemirror_mode": {
    "name": "ipython",
    "version": 3
   },
   "file_extension": ".py",
   "mimetype": "text/x-python",
   "name": "python",
   "nbconvert_exporter": "python",
   "pygments_lexer": "ipython3",
   "version": "3.6.5"
  }
 },
 "nbformat": 4,
 "nbformat_minor": 2
}
