{
 "cells": [
  {
   "cell_type": "code",
   "execution_count": 1,
   "metadata": {},
   "outputs": [],
   "source": [
    "# import relevant libraries\n",
    "import csv_diff\n",
    "import pandas.io.json\n",
    "import pandas as pd\n",
    "import datetime"
   ]
  },
  {
   "cell_type": "code",
   "execution_count": 2,
   "metadata": {},
   "outputs": [
    {
     "name": "stdout",
     "output_type": "stream",
     "text": [
      "Records in the previous releae data = 15142\n",
      "Records in the current release data = 15157\n",
      "Difference between the two release data files = 15\n"
     ]
    }
   ],
   "source": [
    "# load current and previous release data\n",
    "data_previous_release = csv_diff.load_csv(open('data/1911_data_final.csv'), key='ensembl_gene_id')\n",
    "data_current_release = csv_diff.load_csv(open('data/2002_data_v1.csv'), key='ensembl_gene_id') \n",
    "\n",
    "print(\"Records in the previous release data = %i\" % len(data_previous_release))\n",
    "print(\"Records in the current release data = %i\" % len(data_current_release))\n",
    "\n",
    "difference_in_release_data = len(data_current_release) - len(data_previous_release) \n",
    "print(\"Difference between the two release data files = %i\" % (difference_in_release_data))"
   ]
  },
  {
   "cell_type": "code",
   "execution_count": 3,
   "metadata": {},
   "outputs": [],
   "source": [
    "# run CSV diff on data files (output is JSON as specified in the csv_diff docs)\n",
    "tractability_data_csv_diff_results = csv_diff.compare(data_previous_release, data_current_release)"
   ]
  },
  {
   "cell_type": "code",
   "execution_count": 4,
   "metadata": {},
   "outputs": [
    {
     "name": "stdout",
     "output_type": "stream",
     "text": [
      "Generated tractability diff file with 8711 records changed\n"
     ]
    }
   ],
   "source": [
    "# convert JSON into DataFrame and save as CSV\n",
    "normalised_csv_diff_data = pandas.io.json.json_normalize(tractability_data_csv_diff_results['changed'])\n",
    "tractability_csv_diff_df = pd.DataFrame.from_dict(normalised_csv_diff_data, orient='columns')\n",
    "print('Generated tractability diff file with %i records changed' % (len(tractability_csv_diff_df)))"
   ]
  },
  {
   "cell_type": "code",
   "execution_count": 5,
   "metadata": {},
   "outputs": [],
   "source": [
    "# generate and save report report\n",
    "today_date = datetime.datetime.now().strftime('%Y-%m-%d')\n",
    "report_directory = 'reports/'\n",
    "report_filename = today_date + '_' + 'tractability_data_csv_diff_report.csv'\n",
    "tractability_csv_diff_df.to_csv(report_directory + report_filename, index=False)"
   ]
  },
  {
   "cell_type": "code",
   "execution_count": null,
   "metadata": {},
   "outputs": [],
   "source": []
  }
 ],
 "metadata": {
  "kernelspec": {
   "display_name": "Python 3",
   "language": "python",
   "name": "python3"
  },
  "language_info": {
   "codemirror_mode": {
    "name": "ipython",
    "version": 3
   },
   "file_extension": ".py",
   "mimetype": "text/x-python",
   "name": "python",
   "nbconvert_exporter": "python",
   "pygments_lexer": "ipython3",
   "version": "3.6.5"
  }
 },
 "nbformat": 4,
 "nbformat_minor": 2
}
