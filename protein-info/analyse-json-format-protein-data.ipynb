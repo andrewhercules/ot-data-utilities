{
 "cells": [
  {
   "cell_type": "code",
   "execution_count": 1,
   "metadata": {},
   "outputs": [],
   "source": [
    "import pandas as pd\n",
    "import numpy as np\n",
    "import requests\n",
    "import json"
   ]
  },
  {
   "cell_type": "code",
   "execution_count": 2,
   "metadata": {},
   "outputs": [
    {
     "name": "stdout",
     "output_type": "stream",
     "text": [
      "8850\n"
     ]
    }
   ],
   "source": [
    "with open('data/otar2048-data.json') as otar2048_json_file:  \n",
    "    project_data = json.load(otar2048_json_file)\n",
    "\n",
    "print(len(project_data))"
   ]
  },
  {
   "cell_type": "code",
   "execution_count": 3,
   "metadata": {},
   "outputs": [
    {
     "name": "stdout",
     "output_type": "stream",
     "text": [
      "{'accession': 'R9XZB5', 'biophysicochemicalProperties': [], 'functions': [{'text': 'Component of the ubiquinol-cytochrome c reductase complex (complex III or cytochrome b-c1 complex) that is part of the mitochondrial respiratory chain. The b-c1 complex mediates electron transfer from ubiquinol to cytochrome c. Contributes to the generation of a proton gradient across the mitochondrial membrane that is then used for ATP synthesis', 'publications': [{'code': 'ECO:0000256', 'sources': [{'name': 'RuleBase', 'ids': ['RU362117']}]}]}], 'complexes': [], 'enzymeRegulations': [], 'catalyticAcitivities': [], 'families': [{'description': '<p>Cytochrome b is a component of the ubiquinol-cytochrome c reductase complex (complex III or cytochrome b-c1 complex) in the mitochondrion of eukaryotes and in aerobic prokaryotes [<cite id=\"PUB00073688\"/>]. This complex is involved in electron transport that generates an electrochemical potential coupled to ATP synthesis. Cytochrome b is the central redox catalytic subunit of the complex. It is involved in the binding of the quinone substrate and is responsible for the transmembrane electron transfer by which redox energy is converted into a protonmotive force [<cite id=\"PUB00000640\"/>].</p>', 'goTerms': [{'name': 'ubiquinol-cytochrome-c reductase activity', 'category': {'code': 'F', 'name': 'molecular_function'}, 'id': 'GO:0008121'}, {'name': 'mitochondrial electron transport, ubiquinol to cytochrome c', 'category': {'code': 'P', 'name': 'biological_process'}, 'id': 'GO:0006122'}, {'name': 'electron transfer activity', 'category': {'code': 'F', 'name': 'molecular_function'}, 'id': 'GO:0009055'}, {'name': 'respiratory chain complex III', 'category': {'code': 'C', 'name': 'cellular_component'}, 'id': 'GO:0045275'}], 'publications': [{'code': 'PUB00000640', 'sources': [{'name': 'PMID', 'ids': ['8329437']}]}, {'code': 'PUB00073688', 'sources': [{'name': 'PMID', 'ids': ['8647838']}]}], 'id': 'IPR030689'}], 'cofactorGroups': {'cofactors': [{'value': 'heme', 'xrefs': [{'name': 'CHEBI', 'id': 'CHEBI:30413'}], 'publications': [{'code': 'ECO:0000256', 'sources': [{'name': 'RuleBase', 'ids': ['RU362117']}]}]}], 'notes': [{'text': 'Binds 2 heme groups non-covalently', 'publications': [{'code': 'ECO:0000256', 'sources': [{'name': 'RuleBase', 'ids': ['RU362117']}]}]}]}, 'id': 'R9XZB5_HOMNE'}\n"
     ]
    }
   ],
   "source": [
    "print(project_data[0])"
   ]
  },
  {
   "cell_type": "code",
   "execution_count": 4,
   "metadata": {},
   "outputs": [
    {
     "name": "stdout",
     "output_type": "stream",
     "text": [
      "Found P05187\n",
      "{\"cofactors\": [{\"value\": \"Mg(2+)\", \"xrefs\": [{\"name\": \"CHEBI\", \"id\": \"CHEBI:18420\"}], \"publications\": [{\"code\": \"ECO:0000269\", \"sources\": [{\"name\": \"PubMed\", \"ids\": [\"11124260\", \"15946677\", \"16815919\", \"20693656\"]}]}]}, {\"value\": \"Zn(2+)\", \"xrefs\": [{\"name\": \"CHEBI\", \"id\": \"CHEBI:29105\"}], \"publications\": [{\"code\": \"ECO:0000269\", \"sources\": [{\"name\": \"PubMed\", \"ids\": [\"11124260\", \"15946677\", \"16815919\", \"20693656\"]}]}]}], \"notes\": [{\"text\": \"Binds 2 Zn(2+) ions\", \"publications\": [{\"code\": \"ECO:0000269\", \"sources\": [{\"name\": \"PubMed\", \"ids\": [\"11124260\", \"15946677\", \"16815919\", \"20693656\"]}]}]}]}\n",
      "*****\n",
      "Found Q15493\n",
      "{\"cofactors\": [{\"value\": \"Zn(2+)\", \"xrefs\": [{\"name\": \"CHEBI\", \"id\": \"CHEBI:29105\"}], \"publications\": [{\"code\": \"ECO:0000269\", \"sources\": [{\"name\": \"PubMed\", \"ids\": [\"20329768\", \"23349732\"]}]}]}, {\"value\": \"Mn(2+)\", \"xrefs\": [{\"name\": \"CHEBI\", \"id\": \"CHEBI:29035\"}], \"publications\": [{\"code\": \"ECO:0000269\", \"sources\": [{\"name\": \"PubMed\", \"ids\": [\"20329768\", \"23349732\"]}]}]}, {\"value\": \"Ca(2+)\", \"xrefs\": [{\"name\": \"CHEBI\", \"id\": \"CHEBI:29108\"}], \"publications\": [{\"code\": \"ECO:0000269\", \"sources\": [{\"name\": \"PubMed\", \"ids\": [\"20329768\", \"23349732\"]}]}]}, {\"value\": \"Mg(2+)\", \"xrefs\": [{\"name\": \"CHEBI\", \"id\": \"CHEBI:18420\"}], \"publications\": [{\"code\": \"ECO:0000269\", \"sources\": [{\"name\": \"PubMed\", \"ids\": [\"20329768\", \"23349732\"]}]}]}], \"notes\": [{\"text\": \"Binds 1 divalent metal cation per subunit. Most active with Zn(2+) and Mn(2+) ions. The physiological cofactor is most likely Ca(2+) or Mg(2+)\", \"publications\": [{\"code\": \"ECO:0000269\", \"sources\": [{\"name\": \"PubMed\", \"ids\": [\"20329768\", \"23349732\"]}]}]}]}\n",
      "*****\n",
      "Found P00918\n",
      "{\"cofactors\": [{\"value\": \"Zn(2+)\", \"xrefs\": [{\"name\": \"CHEBI\", \"id\": \"CHEBI:29105\"}], \"publications\": [{\"code\": \"ECO:0000269\", \"sources\": [{\"name\": \"PubMed\", \"ids\": [\"11076507\", \"12499545\", \"1336460\", \"1433293\", \"1909891\", \"19583303\", \"3151019\", \"3151020\", \"7761440\", \"7803386\", \"7901850\", \"8218160\", \"8262987\", \"8331673\", \"8399159\", \"8431430\", \"8451242\", \"8482389\", \"8639494\", \"8987974\", \"9398308\", \"9865942\"]}]}]}, {\"value\": \"Co(2+)\", \"xrefs\": [{\"name\": \"CHEBI\", \"id\": \"CHEBI:48828\"}], \"publications\": [{\"code\": \"ECO:0000269\", \"sources\": [{\"name\": \"PubMed\", \"ids\": [\"19583303\"]}]}]}], \"notes\": [{\"text\": \"Zinc. Can also use cobalt(II) with lower efficiency, but not copper(II), nickel(II) and manganese(II)\", \"publications\": [{\"code\": \"ECO:0000269\", \"sources\": [{\"name\": \"PubMed\", \"ids\": [\"19583303\"]}]}]}]}\n",
      "*****\n",
      "Found Q96H96\n",
      "{\"cofactors\": [{\"value\": \"Mg(2+)\", \"xrefs\": [{\"name\": \"CHEBI\", \"id\": \"CHEBI:18420\"}], \"publications\": [{\"code\": \"ECO:0000255\", \"sources\": [{\"name\": \"HAMAP-Rule\", \"ids\": [\"MF_03189\"]}]}]}], \"notes\": []}\n",
      "*****\n",
      "Found P35354\n",
      "{\"cofactors\": [{\"value\": \"heme b\", \"xrefs\": [{\"name\": \"CHEBI\", \"id\": \"CHEBI:60344\"}], \"publications\": [{\"code\": \"ECO:0000269\", \"sources\": [{\"name\": \"PubMed\", \"ids\": [\"26859324\", \"27226593\", \"27710942\"]}]}]}], \"notes\": [{\"text\": \"Binds 1 heme b (iron(II)-protoporphyrin IX) group per subunit\", \"publications\": [{\"code\": \"ECO:0000269\", \"sources\": [{\"name\": \"PubMed\", \"ids\": [\"26859324\", \"27226593\", \"27710942\"]}]}]}]}\n",
      "*****\n",
      "Found P27815\n",
      "{\"cofactors\": [{\"value\": \"a divalent metal cation\", \"xrefs\": [{\"name\": \"CHEBI\", \"id\": \"CHEBI:60240\"}], \"publications\": [{\"code\": \"ECO:0000269\", \"sources\": [{\"name\": \"PubMed\", \"ids\": [\"17727341\"]}]}]}], \"notes\": [{\"text\": \"Binds 2 divalent metal cations per subunit. Site 1 may preferentially bind zinc ions, while site 2 has a preference for magnesium and/or manganese ions\", \"publications\": [{\"code\": \"ECO:0000269\", \"sources\": [{\"name\": \"PubMed\", \"ids\": [\"17727341\"]}]}]}]}\n",
      "*****\n",
      "Found P16298\n",
      "{\"cofactors\": [{\"value\": \"Fe(3+)\", \"xrefs\": [{\"name\": \"CHEBI\", \"id\": \"CHEBI:29034\"}], \"publications\": [{\"code\": \"ECO:0000269\", \"sources\": [{\"name\": \"PubMed\", \"ids\": [\"26794871\"]}]}]}, {\"value\": \"Zn(2+)\", \"xrefs\": [{\"name\": \"CHEBI\", \"id\": \"CHEBI:29105\"}], \"publications\": [{\"code\": \"ECO:0000269\", \"sources\": [{\"name\": \"PubMed\", \"ids\": [\"26794871\"]}]}]}], \"notes\": [{\"text\": \"Binds 1 zinc ion per subunit\", \"publications\": [{\"code\": \"ECO:0000269\", \"sources\": [{\"name\": \"PubMed\", \"ids\": [\"26794871\"]}]}]}]}\n",
      "*****\n",
      "Found P22413\n",
      "{\"cofactors\": [{\"value\": \"Zn(2+)\", \"xrefs\": [{\"name\": \"CHEBI\", \"id\": \"CHEBI:29105\"}], \"publications\": [{\"code\": \"ECO:0000250\", \"sources\": [{\"name\": \"UniProtKB\", \"ids\": [\"P06802\"]}]}]}], \"notes\": [{\"text\": \"Binds 2 Zn(2+) ions per subunit\", \"publications\": [{\"code\": \"ECO:0000250\", \"sources\": [{\"name\": \"UniProtKB\", \"ids\": [\"P06802\"]}]}]}]}\n",
      "*****\n"
     ]
    }
   ],
   "source": [
    "uniprot_ids_cofactors = [\n",
    "    'P05187',\n",
    "    'Q15493',\n",
    "    'P00918',\n",
    "    'Q96H96',\n",
    "    'P35354',\n",
    "    'Q8NBP7',\n",
    "    'P27815',\n",
    "    'P04637',\n",
    "    'P69905',\n",
    "    'P16298',\n",
    "    'P22413'\n",
    "]\n",
    "\n",
    "for uniprot_id in uniprot_ids_cofactors:\n",
    "    \n",
    "    for item in project_data:\n",
    "        \n",
    "        if uniprot_id in item.values():\n",
    "            print('Found ' + uniprot_id)\n",
    "            cofactors_json = json.dumps(item['cofactorGroups'])\n",
    "            print(cofactors_json)\n",
    "            print('*****')\n",
    "    \n",
    "    \n"
   ]
  },
  {
   "cell_type": "code",
   "execution_count": 5,
   "metadata": {},
   "outputs": [
    {
     "name": "stdout",
     "output_type": "stream",
     "text": [
      "Found P16298\n",
      "[{\"id\": \"CPX-1002\"}, {\"id\": \"CPX-1009\"}, {\"id\": \"CPX-1116\"}, {\"id\": \"CPX-998\"}]\n",
      "*****\n",
      "Found Q05329\n",
      "[{\"id\": \"CPX-3033\"}, {\"id\": \"CPX-3065\"}]\n",
      "*****\n",
      "Found Q9ULG1\n",
      "[{\"id\": \"CPX-846\"}]\n",
      "*****\n",
      "Found Q9NRR4\n",
      "[{\"id\": \"CPX-3080\"}]\n",
      "*****\n",
      "Found P03886\n",
      "[{\"id\": \"CPX-577\"}]\n",
      "*****\n"
     ]
    }
   ],
   "source": [
    "uniprot_ids_complexes = [\n",
    "    'P16298',\n",
    "    'Q05329',\n",
    "    'Q9ULG1',\n",
    "    'Q9NRR4',\n",
    "    'P03886',\n",
    "]\n",
    "\n",
    "for uniprot_id in uniprot_ids_complexes:\n",
    "    \n",
    "    for item in project_data:\n",
    "        \n",
    "        if uniprot_id in item.values():\n",
    "            print('Found ' + uniprot_id)\n",
    "            complexes_json = json.dumps(item['complexes'])\n",
    "            print(complexes_json)\n",
    "            print('*****')"
   ]
  },
  {
   "cell_type": "code",
   "execution_count": 6,
   "metadata": {},
   "outputs": [
    {
     "name": "stdout",
     "output_type": "stream",
     "text": [
      "Found P16298\n",
      "[]\n",
      "*****\n",
      "Found Q05329\n",
      "[{\"description\": \"<p> Pyridoxal phosphate is the active form of vitamin B6 (pyridoxine or pyridoxal). Pyridoxal 5'-phosphate (PLP) is a versatile catalyst, acting as a coenzyme in a multitude of reactions, including decarboxylation, deamination and transamination  [<cite id=\\\"PUB00035505\\\"/>, <cite id=\\\"PUB00006322\\\"/>, <cite id=\\\"PUB00035506\\\"/>]. PLP-dependent enzymes are primarily involved in the biosynthesis of amino acids and amino acid-derived metabolites, but they are also found in the biosynthetic pathways of amino sugars and in the synthesis or catabolism of neurotransmitters; pyridoxal phosphate can also inhibit DNA polymerases and several steroid receptors  [<cite id=\\\"PUB00035507\\\"/>]. Inadequate levels of pyridoxal phosphate in the brain can cause neurological dysfunction, particularly epilepsy [<cite id=\\\"PUB00035508\\\"/>].</p>\\r\\n<p>PLP enzymes exist in their resting state as a Schiff base, the aldehyde group of PLP forming a linkage with the epsilon-amino group of an active site lysine residue on the enzyme. The alpha-amino group of the substrate displaces the lysine epsilon-amino group, in the process forming a new aldimine with the substrate. This aldimine is the common central intermediate for all PLP-catalysed reactions, enzymatic and non-enzymatic [<cite id=\\\"PUB00035504\\\"/>].</p><p>A number of pyridoxal-dependent decarboxylases share regions of sequence similarity, particularly in the vicinity of a conserved lysine residue, which provides the attachment site for the pyridoxal-phosphate (PLP) group [<cite id=\\\"PUB00001452\\\"/>, <cite id=\\\"PUB00003414\\\"/>]. Among these enzymes are aromatic-L-amino-acid decarboxylase (L-dopa decarboxylase or tryptophan decarboxylase), which catalyses the decarboxylation of tryptophan to tryptamine [<cite id=\\\"PUB00002358\\\"/>]; tyrosine decarboxylase, which converts tyrosine into tyramine; histidine decarboxylase, which catalyses the decarboxylation of histidine to histamine [<cite id=\\\"PUB00004715\\\"/>]; and L-aspartate decarboxylase, which converts aspartate to beta-alanine [<cite id=\\\"PUB00076906\\\"/>]. These enzymes belong to the group II decarboxylases [<cite id=\\\"PUB00001452\\\"/>, <cite id=\\\"PUB00002358\\\"/>].</p>\", \"goTerms\": [{\"name\": \"carboxylic acid metabolic process\", \"category\": {\"code\": \"P\", \"name\": \"biological_process\"}, \"id\": \"GO:0019752\"}, {\"name\": \"pyridoxal phosphate binding\", \"category\": {\"code\": \"F\", \"name\": \"molecular_function\"}, \"id\": \"GO:0030170\"}, {\"name\": \"carboxy-lyase activity\", \"category\": {\"code\": \"F\", \"name\": \"molecular_function\"}, \"id\": \"GO:0016831\"}], \"publications\": [{\"code\": \"PUB00040251\", \"sources\": [{\"name\": \"PMID\", \"ids\": [\"16675957\"]}]}, {\"code\": \"PUB00026519\", \"sources\": [{\"name\": \"PMID\", \"ids\": [\"11685243\"]}]}, {\"code\": \"PUB00029912\", \"sources\": [{\"name\": \"PMID\", \"ids\": [\"12912902\"]}]}, {\"code\": \"PUB00002358\", \"sources\": [{\"name\": \"PMID\", \"ids\": [\"8889823\"]}]}, {\"code\": \"PUB00003414\", \"sources\": [{\"name\": \"PMID\", \"ids\": [\"2124279\"]}]}, {\"code\": \"PUB00076906\", \"sources\": [{\"name\": \"PMID\", \"ids\": [\"24415726\"]}]}, {\"code\": \"PUB00004715\", \"sources\": [{\"name\": \"PMID\", \"ids\": [\"2300558\"]}]}, {\"code\": \"PUB00032410\", \"sources\": [{\"name\": \"PMID\", \"ids\": [\"15735332\"]}]}, {\"code\": \"PUB00006322\", \"sources\": [{\"name\": \"PMID\", \"ids\": [\"7748903\"]}]}, {\"code\": \"PUB00035506\", \"sources\": [{\"name\": \"PMID\", \"ids\": [\"15189147\"]}]}, {\"code\": \"PUB00035507\", \"sources\": [{\"name\": \"PMID\", \"ids\": [\"17109392\"]}]}, {\"code\": \"PUB00035504\", \"sources\": [{\"name\": \"PMID\", \"ids\": [\"15581583\"]}]}, {\"code\": \"PUB00035505\", \"sources\": [{\"name\": \"PMID\", \"ids\": [\"8690703\"]}]}, {\"code\": \"PUB00035508\", \"sources\": [{\"name\": \"PMID\", \"ids\": [\"16763894\"]}]}, {\"code\": \"PUB00001452\", \"sources\": [{\"name\": \"PMID\", \"ids\": [\"8181483\"]}]}], \"id\": \"IPR002129\"}]\n",
      "*****\n",
      "Found Q9ULG1\n",
      "[{\"description\": \"<p>Ino80 is evolutionarily conserved from yeast to man [<cite id=\\\"PUB00062156\\\"/>]. It is a ATPase and a subunit of Ino80 complex [<cite id=\\\"PUB00052593\\\"/>]. The Ino80 complex displays 3'-5' DNA helicase activity and is involved in transcription, DNA replication and repair, and chromatin remodelling [<cite id=\\\"PUB00074372\\\"/>, <cite id=\\\"PUB00061630\\\"/>, <cite id=\\\"PUB00074373\\\"/>].</p>\", \"goTerms\": [{\"name\": \"ATPase activity\", \"category\": {\"code\": \"F\", \"name\": \"molecular_function\"}, \"id\": \"GO:0016887\"}, {\"name\": \"nucleus\", \"category\": {\"code\": \"C\", \"name\": \"cellular_component\"}, \"id\": \"GO:0005634\"}, {\"name\": \"DNA repair\", \"category\": {\"code\": \"P\", \"name\": \"biological_process\"}, \"id\": \"GO:0006281\"}, {\"name\": \"chromatin remodeling\", \"category\": {\"code\": \"P\", \"name\": \"biological_process\"}, \"id\": \"GO:0006338\"}, {\"name\": \"transcription, DNA-templated\", \"category\": {\"code\": \"P\", \"name\": \"biological_process\"}, \"id\": \"GO:0006351\"}, {\"name\": \"Ino80 complex\", \"category\": {\"code\": \"C\", \"name\": \"cellular_component\"}, \"id\": \"GO:0031011\"}], \"publications\": [{\"code\": \"PUB00052593\", \"sources\": [{\"name\": \"PMID\", \"ids\": [\"16298340\"]}]}, {\"code\": \"PUB00074372\", \"sources\": [{\"name\": \"PMID\", \"ids\": [\"21135121\"]}]}, {\"code\": \"PUB00074373\", \"sources\": [{\"name\": \"PMID\", \"ids\": [\"15525519\"]}]}, {\"code\": \"PUB00062156\", \"sources\": [{\"name\": \"PMID\", \"ids\": [\"21303910\"]}]}, {\"code\": \"PUB00061630\", \"sources\": [{\"name\": \"PMID\", \"ids\": [\"16230350\"]}]}], \"id\": \"IPR031047\"}]\n",
      "*****\n",
      "Found Q9NRR4\n",
      "[{\"description\": \"<p>This family consists of ribonuclease III (RNase III). This ubiquitous enzyme specifically cleaves double-stranded rRNA and is found in all bacteria and eukaryotes [<cite id=\\\"PUB00028101\\\"/>]. In bacteria its main role is the processing of pre-rRNAs, where the large precursor ribosomal RNA molecules are at cleaved at specific sites to produce the immediate precursors of the functional molecules. RNase III also functions in the maturation and degradation of mRNAs, and the maturaton of tRNAs. In some organisms (eg. Escherichia coli)  cells are viable without this enzyme, though they are impeded in growth, but in others (eg. B. subtilis and M. genitalium) this enzyme is essential.</p>\\r\\n\\r\\n<p>The bacterial RNase III enzymes so far characterised are homodimers with a molecular mass of ~50kDa [<cite id=\\\"PUB00028102\\\"/>, <cite id=\\\"PUB00010737\\\"/>]. The endonuclease domain is located within the N-terminal two-thirds of the protein, containing several alpha helices, but no beta strands. The double-stranded RNA binding domain is found at the C-terminal third of the protein, forming the alpha-beta(3)-alpha fold common to dsRNA-binding proteins. A signature box of 11 conserved amino acids found in the N-terminal region of RNase III may contain the active site, though this has not been proven.</p>\", \"goTerms\": [{\"name\": \"RNA binding\", \"category\": {\"code\": \"F\", \"name\": \"molecular_function\"}, \"id\": \"GO:0003723\"}, {\"name\": \"ribonuclease III activity\", \"category\": {\"code\": \"F\", \"name\": \"molecular_function\"}, \"id\": \"GO:0004525\"}, {\"name\": \"rRNA catabolic process\", \"category\": {\"code\": \"P\", \"name\": \"biological_process\"}, \"id\": \"GO:0016075\"}], \"publications\": [{\"code\": \"PUB00038680\", \"sources\": [{\"name\": \"PMID\", \"ids\": [\"16216575\"]}]}, {\"code\": \"PUB00030596\", \"sources\": [{\"name\": \"PMID\", \"ids\": [\"15016361\"]}]}, {\"code\": \"PUB00048393\", \"sources\": [{\"name\": \"PMID\", \"ids\": [\"18047582\"]}]}, {\"code\": \"PUB00040478\", \"sources\": [{\"name\": \"PMID\", \"ids\": [\"16439209\"]}]}, {\"code\": \"PUB00028101\", \"sources\": [{\"name\": \"PMID\", \"ids\": [\"11809414\"]}]}, {\"code\": \"PUB00010737\", \"sources\": [{\"name\": \"PMID\", \"ids\": [\"11738048\"]}]}, {\"code\": \"PUB00028102\", \"sources\": [{\"name\": \"PMID\", \"ids\": [\"16155207\"]}]}], \"id\": \"IPR011907\"}]\n",
      "*****\n",
      "Found P03886\n",
      "[{\"description\": \"<p>This entry represents subunit 1 NADH:ubiquinone oxidoreductase [<cite id=\\\"PUB00001392\\\"/>]. Among the many polypeptide subunits that make up complex I, there are fifteen which are located in the membrane part, seven of which are encoded by the mitochondrial and chloroplast genomes of most species. The most conserved of these organelle-encoded subunits is known as subunit 1 (gene ND1 in mitochondrion, and NDH1 in chloroplast) and seems to contain the ubiquinone binding site.</p>\\r\\n<p>The ND1 subunit is highly similar to subunit 4 of Escherichia coli formate hydrogenlyase (gene hycD), subunit C of hydrogenase-4 (gene hyfC). Paracoccus denitrificans NQO8 and Escherichia coli nuoH NADH-ubiquinone oxidoreductase subunits also belong to this family [<cite id=\\\"PUB00003309\\\"/>].</p><p> NADH:ubiquinone oxidoreductase (complex I) (<dbxref db=\\\"EC\\\" id=\\\"1.6.5.3\\\"/>) is a respiratory-chain enzyme that catalyses the transfer of two electrons from NADH to ubiquinone in a reaction that is associated with proton translocation across the membrane (NADH + ubiquinone = NAD+ + ubiquinol) [<cite id=\\\"PUB00005074\\\"/>]. Complex I is a major source of reactive oxygen species (ROS) that are predominantly formed by electron transfer from FMNH(2). Complex I is found in bacteria, cyanobacteria (as a NADH-plastoquinone oxidoreductase), archaea [<cite id=\\\"PUB00043561\\\"/>], mitochondria, and in the hydrogenosome, a mitochondria-derived organelle. In general, the bacterial complex consists of 14 different subunits, while the mitochondrial complex contains homologues to these subunits in addition to approximately 31 additional proteins [<cite id=\\\"PUB00045437\\\"/>]. </p><p>This entry also includes the archaeal F420H2 oxidoreductase subunit H (FPO). FPO shuttles electrons from F420H2, via FAD and iron-sulphur (Fe-S) centres, to quinones in the F420H2:heterodisulphide oxidoreduction chain. The immediate electron acceptor for the enzyme in this species is believed to be methanophenazine. Couples the redox reaction to proton translocation (for every two electrons transferred, 0.9 hydrogen ions are translocated across the cytoplasmic membrane), and thus conserves the redox energy in a proton gradient. </p>\", \"goTerms\": [{\"name\": \"membrane\", \"category\": {\"code\": \"C\", \"name\": \"cellular_component\"}, \"id\": \"GO:0016020\"}, {\"name\": \"oxidation-reduction process\", \"category\": {\"code\": \"P\", \"name\": \"biological_process\"}, \"id\": \"GO:0055114\"}], \"publications\": [{\"code\": \"PUB00043561\", \"sources\": [{\"name\": \"PMID\", \"ids\": [\"10940377\"]}]}, {\"code\": \"PUB00003309\", \"sources\": [{\"name\": \"PMID\", \"ids\": [\"7690854\"]}]}, {\"code\": \"PUB00045437\", \"sources\": [{\"name\": \"PMID\", \"ids\": [\"18394423\"]}]}, {\"code\": \"PUB00005074\", \"sources\": [{\"name\": \"PMID\", \"ids\": [\"1470679\"]}]}, {\"code\": \"PUB00001392\", \"sources\": [{\"name\": \"PMID\", \"ids\": [\"2029890\"]}]}], \"id\": \"IPR001694\"}]\n",
      "*****\n"
     ]
    }
   ],
   "source": [
    "uniprot_ids_families = [\n",
    "    'Q8NFU5',\n",
    "    'P22413',\n",
    "    'O60906',\n",
    "    'Q6P1A2'\n",
    "]\n",
    "\n",
    "for uniprot_id in uniprot_ids_complexes:\n",
    "    \n",
    "    for item in project_data:\n",
    "        \n",
    "        if uniprot_id in item.values():\n",
    "            print('Found ' + uniprot_id)\n",
    "            families_json = json.dumps(item['families'])\n",
    "            print(families_json)\n",
    "            print('*****')"
   ]
  },
  {
   "cell_type": "code",
   "execution_count": null,
   "metadata": {},
   "outputs": [],
   "source": []
  }
 ],
 "metadata": {
  "kernelspec": {
   "display_name": "Python 3",
   "language": "python",
   "name": "python3"
  },
  "language_info": {
   "codemirror_mode": {
    "name": "ipython",
    "version": 3
   },
   "file_extension": ".py",
   "mimetype": "text/x-python",
   "name": "python",
   "nbconvert_exporter": "python",
   "pygments_lexer": "ipython3",
   "version": "3.6.5"
  }
 },
 "nbformat": 4,
 "nbformat_minor": 2
}
