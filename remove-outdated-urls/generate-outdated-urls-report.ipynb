{
 "cells": [
  {
   "cell_type": "markdown",
   "metadata": {},
   "source": [
    "# Generate Remove Outdated Content URL Reports\n",
    "\n",
    "This script will search Google for a specific develoment branch of the Open Targets Platform, scrape the URLs from the first 100 results, and generate a list of URLs that can be submitted to [Google's Remove Outdated Content tool](https://www.google.com/webmasters/tools/removals).\n",
    "\n",
    "To run the script, you will require:\n",
    "\n",
    "1. A specific Platform branch that you want to remove from Google that has been incorrectly indexed (e.g. EFO3 or shipit)\n",
    "2. An account with [Zenserp](https://zenserp.com/)* \n",
    "\n",
    "*Note: the free account with Zenserp is limited to 50 Google Search API calls per month - if the branch you want to remove from Google has more than 100 results, increase the ``number_of_search_results_to_include`` value."
   ]
  },
  {
   "cell_type": "markdown",
   "metadata": {},
   "source": [
    "## Step 1: Find the Platform branches incorrectly indexed by Google\n",
    "\n",
    "To find specific Platform branches that have been incorrectly indexed by Google, please run the following Google search:\n",
    "\n",
    "**``site:*.targetvalidation.org -www -qa``**\n",
    "\n",
    "This will search for any URLs that include ``.targetvalidation.org`` but will exclude ``www.targetvalidation.org`` and ``qa.targetvalidation.org`` - these are valid URLs for now, pending further review of the Platform architecture."
   ]
  },
  {
   "cell_type": "markdown",
   "metadata": {},
   "source": [
    "## Step 2: Set parameters for script to run"
   ]
  },
  {
   "cell_type": "code",
   "execution_count": null,
   "metadata": {},
   "outputs": [],
   "source": [
    "zenserp_api_key = 'API-KEY'"
   ]
  },
  {
   "cell_type": "code",
   "execution_count": null,
   "metadata": {},
   "outputs": [],
   "source": [
    "platform_branch = 'efo3.targetvalidation.org'"
   ]
  },
  {
   "cell_type": "code",
   "execution_count": null,
   "metadata": {},
   "outputs": [],
   "source": [
    "number_of_search_results_to_include = 100"
   ]
  },
  {
   "cell_type": "markdown",
   "metadata": {},
   "source": [
    "## Step 3: Run Google search"
   ]
  },
  {
   "cell_type": "code",
   "execution_count": null,
   "metadata": {},
   "outputs": [],
   "source": [
    "import requests\n",
    "\n",
    "headers = {\n",
    "    'apikey': zenserp_api_key,\n",
    "}\n",
    "\n",
    "params = (\n",
    "    ('q', 'site:' + platform_branch),\n",
    "    ('location', 'United States'),\n",
    "    ('search_engine', 'google.com'),\n",
    "    ('gl', 'US'),\n",
    "    ('hl', 'en'),\n",
    "    ('num', number_of_search_results_to_include)\n",
    ")\n",
    "\n",
    "response = requests.get('https://app.zenserp.com/api/v2/search', headers=headers, params=params)\n",
    "\n",
    "search_data = response.json()\n",
    "\n",
    "print('There are %i results from this query' % (len(search_data['organic'])))"
   ]
  },
  {
   "cell_type": "markdown",
   "metadata": {},
   "source": [
    "## Step 4: Scrape URLs from search results and generate CSV file"
   ]
  },
  {
   "cell_type": "code",
   "execution_count": null,
   "metadata": {},
   "outputs": [],
   "source": [
    "import csv\n",
    "import datetime\n",
    "\n",
    "csv_data = []\n",
    "\n",
    "for result in search_data['organic']:\n",
    "    csv_data.append(result['url'])\n",
    "\n",
    "today_date = datetime.datetime.now().strftime('%Y-%m-%d')\n",
    "\n",
    "report_directory = 'reports/'\n",
    "\n",
    "report_filename = today_date + '_' + platform_branch + '_report.csv'\n",
    "\n",
    "with open(report_directory + report_filename, 'w') as myfile:\n",
    "    wr = csv.writer(myfile, delimiter=\"\\n\")\n",
    "    wr.writerow(csv_data)"
   ]
  },
  {
   "cell_type": "markdown",
   "metadata": {},
   "source": [
    "## Step 5: Upload CSV file to Google's Remove Outdated Content tool"
   ]
  },
  {
   "cell_type": "markdown",
   "metadata": {},
   "source": [
    "For small lists with less than 5 URLs to remove, you can manually enter each URL into the [Remove Outdated Content tool](https://www.google.com/webmasters/tools/removals) form.\n",
    "\n",
    "For larger lists, please download and install the [Bulk Outdated Content Removal Chrome extension](https://github.com/noitcudni/google-webmaster-tools-bulk-outdated-content-removal). Once installed, when you visit the [Remove Outdated Content tool](https://www.google.com/webmasters/tools/removals) page, you can upload the CSV you created in step 4 by clicking the `Upload Your File` button."
   ]
  }
 ],
 "metadata": {
  "kernelspec": {
   "display_name": "Python 3",
   "language": "python",
   "name": "python3"
  },
  "language_info": {
   "codemirror_mode": {
    "name": "ipython",
    "version": 3
   },
   "file_extension": ".py",
   "mimetype": "text/x-python",
   "name": "python",
   "nbconvert_exporter": "python",
   "pygments_lexer": "ipython3",
   "version": "3.6.5"
  }
 },
 "nbformat": 4,
 "nbformat_minor": 2
}
