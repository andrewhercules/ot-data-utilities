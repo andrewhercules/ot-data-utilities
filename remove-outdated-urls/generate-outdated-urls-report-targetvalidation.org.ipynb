{
 "cells": [
  {
   "cell_type": "markdown",
   "metadata": {},
   "source": [
    "# Generate Outdated Content URL Reports\n",
    "\n",
    "This script will search Google for a specific develoment branch of the classic Open Targets Platform (targetvalidation.org), scrape the URLs from the first 100 results, and generate a CSV of URLs that can be submitted to [Google's Remove Outdated Content tool](https://www.google.com/webmasters/tools/removals).\n",
    "\n",
    "To run the script, you will require:\n",
    "\n",
    "1. A specific classic Platform branch that you want to remove from Google that has been incorrectly indexed (e.g. ``EFO3``, ``qa``, ``shipit``, etc.)\n",
    "2. An account with [Zenserp](https://zenserp.com/)* \n",
    "\n",
    "*Note: the free account with Zenserp is limited to 50 Google Search API calls per month - if the branch you want to remove from Google has more than 100 results, increase the ``number_of_search_results_to_include`` value."
   ]
  },
  {
   "cell_type": "markdown",
   "metadata": {},
   "source": [
    "## Step 1: Find the Platform branches incorrectly indexed by Google\n",
    "\n",
    "To find specific Platform branches that have been incorrectly indexed by Google, please run the following Google search:\n",
    "\n",
    "``site:*.targetvalidation.org -www``\n",
    "\n",
    "This will search for any URLs that include ``*.targetvalidation.org`` but will exclude ``www.targetvalidation.org``. In the search results, pay particular attention if Google incorrectly indexes any of the following branches:\n",
    "\n",
    "- ``qa.targetvalidation.org``\n",
    "- ``efo3.targetvalidation.org``\n",
    "- ``shipit.targetvalidation.org``\n",
    "- ``master.targetvalidation.org``\n",
    "- ``dev.targetvalidation.org``"
   ]
  },
  {
   "cell_type": "markdown",
   "metadata": {},
   "source": [
    "## Step 2: Set parameters for script to run"
   ]
  },
  {
   "cell_type": "code",
   "execution_count": 1,
   "metadata": {},
   "outputs": [],
   "source": [
    "zenserp_api_key = 'key goes here' \n",
    "platform_branch = 'qa.targetvalidation.org'\n",
    "search_query = 'site:' + platform_branch\n",
    "number_of_search_results_to_include = 100\n",
    "search_engine = 'google.co.uk'\n",
    "search_location = 'United Kingdom'\n",
    "search_gl = 'GB'"
   ]
  },
  {
   "cell_type": "markdown",
   "metadata": {},
   "source": [
    "## Step 3: Run Google search using Zenserp API"
   ]
  },
  {
   "cell_type": "code",
   "execution_count": null,
   "metadata": {},
   "outputs": [],
   "source": [
    "import requests\n",
    "\n",
    "headers = {\n",
    "    'apikey': zenserp_api_key,\n",
    "}\n",
    "\n",
    "params = (\n",
    "    ('q', search_query),\n",
    "    ('location', search_location),\n",
    "    ('search_engine', search_engine),\n",
    "    ('gl', search_gl),\n",
    "    ('hl', 'en'),\n",
    "    ('num', number_of_search_results_to_include)\n",
    ")\n",
    "\n",
    "response = requests.get('https://app.zenserp.com/api/v2/search', headers=headers, params=params)\n",
    "\n",
    "search_data = response.json()\n",
    "\n",
    "print('There are %i results from this query' % (len(search_data['organic'])))"
   ]
  },
  {
   "cell_type": "markdown",
   "metadata": {},
   "source": [
    "## Step 4: Scrape URLs from search results and generate CSV file"
   ]
  },
  {
   "cell_type": "code",
   "execution_count": null,
   "metadata": {},
   "outputs": [],
   "source": [
    "import csv\n",
    "import datetime\n",
    "\n",
    "csv_data = []\n",
    "\n",
    "for result in search_data['organic']:\n",
    "    csv_data.append(result['url'])\n",
    "\n",
    "today_date = datetime.datetime.now().strftime('%Y-%m-%d')\n",
    "\n",
    "report_directory = 'reports/'\n",
    "\n",
    "report_filename = today_date + '_' + platform_branch + '_' + search_engine + '_report.csv'\n",
    "\n",
    "with open(report_directory + report_filename, 'w') as myfile:\n",
    "    wr = csv.writer(myfile, delimiter=\"\\n\")\n",
    "    wr.writerow(csv_data)"
   ]
  },
  {
   "cell_type": "markdown",
   "metadata": {},
   "source": [
    "## Step 5: Upload CSV file to Google's Remove Outdated Content tool"
   ]
  },
  {
   "cell_type": "markdown",
   "metadata": {},
   "source": [
    "For small lists with less than 5 URLs to remove, you can manually enter each URL into the [Remove Outdated Content tool](https://www.google.com/webmasters/tools/removals) form.\n",
    "\n",
    "For larger lists, please download and install the [Bulk Outdated Content Removal Chrome extension](https://github.com/noitcudni/google-webmaster-tools-bulk-outdated-content-removal). Once installed, visit the [Remove Outdated Content tool](https://www.google.com/webmasters/tools/removals) page and upload the CSV you created in step 4 by clicking on the `Upload Your File` button."
   ]
  },
  {
   "cell_type": "code",
   "execution_count": null,
   "metadata": {},
   "outputs": [],
   "source": []
  }
 ],
 "metadata": {
  "kernelspec": {
   "display_name": "Python 3",
   "language": "python",
   "name": "python3"
  },
  "language_info": {
   "codemirror_mode": {
    "name": "ipython",
    "version": 3
   },
   "file_extension": ".py",
   "mimetype": "text/x-python",
   "name": "python",
   "nbconvert_exporter": "python",
   "pygments_lexer": "ipython3",
   "version": "3.6.5"
  }
 },
 "nbformat": 4,
 "nbformat_minor": 2
}
