{
 "cells": [
  {
   "cell_type": "code",
   "execution_count": 1,
   "metadata": {},
   "outputs": [],
   "source": [
    "import pandas as pd\n",
    "import numpy as np\n",
    "import json\n",
    "import xml.etree.ElementTree as ET"
   ]
  },
  {
   "cell_type": "code",
   "execution_count": 2,
   "metadata": {},
   "outputs": [],
   "source": [
    "file_path = 'database-3Jan2021.xml'\n",
    "name_space = '{http://www.drugbank.ca}'"
   ]
  },
  {
   "cell_type": "code",
   "execution_count": 3,
   "metadata": {},
   "outputs": [
    {
     "name": "stdout",
     "output_type": "stream",
     "text": [
      "14315\n"
     ]
    }
   ],
   "source": [
    "tree = ET.parse(file_path)\n",
    "root = tree.getroot()\n",
    "print(len(root))"
   ]
  },
  {
   "cell_type": "code",
   "execution_count": 4,
   "metadata": {},
   "outputs": [],
   "source": [
    "rows = list()\n",
    "\n",
    "def set_drug_type(drug):\n",
    "    drug_type = drug.get('type')\n",
    "    if drug_type == 'biotech':\n",
    "        categories = [category.text for category in drug.findall(\"{name_space}categories/{name_space}category/{name_space}category\".format(name_space = name_space))]\n",
    "        drug_type = 'antibody' if 'Antibodies' in categories else 'other'\n",
    "    return drug_type\n",
    "\n",
    "for i, drug in enumerate(root):\n",
    "    row = {}\n",
    "    assert drug.tag == name_space + 'drug'\n",
    "    row['drugbank_id'] = drug.findtext(name_space + \"drugbank-id[@primary='true']\")\n",
    "    row['name'] = drug.findtext(name_space + \"name\")\n",
    "    row['type'] = set_drug_type(drug)\n",
    "    row['groups'] = [group.text for group in drug.findall(\"{name_space}groups/{name_space}group\".format(name_space = name_space))]\n",
    "    rows.append(row)"
   ]
  },
  {
   "cell_type": "code",
   "execution_count": null,
   "metadata": {},
   "outputs": [],
   "source": [
    "print(len(rows))\n",
    "\n",
    "# test_drug_entry = next((drug for drug in rows if drug['drugbank_id'] == 'DB15685'), None)\n",
    "# print(test_drug_entry)"
   ]
  },
  {
   "cell_type": "code",
   "execution_count": null,
   "metadata": {},
   "outputs": [],
   "source": [
    "df = pd.DataFrame(rows)\n",
    "df.head(10)"
   ]
  },
  {
   "cell_type": "code",
   "execution_count": null,
   "metadata": {},
   "outputs": [],
   "source": [
    "df['type'].value_counts()"
   ]
  },
  {
   "cell_type": "code",
   "execution_count": null,
   "metadata": {},
   "outputs": [],
   "source": [
    "df2 = pd.read_csv(\"drugbank_targets_subset.csv\", sep=\",\")"
   ]
  },
  {
   "cell_type": "code",
   "execution_count": null,
   "metadata": {},
   "outputs": [],
   "source": [
    "df2.head()"
   ]
  },
  {
   "cell_type": "code",
   "execution_count": null,
   "metadata": {},
   "outputs": [],
   "source": [
    "import csv\n",
    "\n",
    "# with open(\"drugbank_targets_subset.csv\") as file:\n",
    "#     raw_csv_file = csv.reader(file, delimiter=',')\n",
    "#     next(raw_csv_file) #skip header\n",
    "#     for row in raw_csv_file:\n",
    "\n",
    "raw_csv_file = csv.DictReader(open('drugbank_pharmacologically_active_targets.csv'))\n",
    "\n",
    "all_data = list()\n",
    "\n",
    "for row in raw_csv_file:\n",
    "    entry = {}\n",
    "    entry['small_molecule_tractable'] = False\n",
    "    entry['antibody_tractable'] = False\n",
    "    entry['other_tractable'] = False \n",
    "    entry['symbol'] = row['Gene Name']\n",
    "    entry['accession'] = row['UniProt ID']\n",
    "#     entry['drug_ids'] = list(row['Drug IDs'].split('; '))\n",
    "    drug_ids = list(row['Drug IDs'].split('; '))\n",
    "    my_list = list()\n",
    "    for x in drug_ids:\n",
    "        drug_obj = next((drug for drug in rows if drug['drugbank_id'] == x), None)\n",
    "        if drug_obj is not None:\n",
    "            if 'approved' in drug_obj['groups'] or 'investigational' in drug_obj['groups'] or 'withdrawn' in drug_obj['groups']:\n",
    "                if drug_obj['type'] == 'small molecule':\n",
    "                    entry['small_molecule_tractable'] = True\n",
    "                if drug_obj['type'] == 'antibody':\n",
    "                    entry['antibody_tractable'] = True\n",
    "                if drug_obj['type'] == 'other':\n",
    "                    entry['other_tractable'] = True\n",
    "                my_list.append(drug_obj)\n",
    "    entry['drugs'] = my_list\n",
    "    all_data.append(entry)"
   ]
  },
  {
   "cell_type": "code",
   "execution_count": null,
   "metadata": {},
   "outputs": [],
   "source": [
    "df3 = pd.DataFrame(all_data)"
   ]
  },
  {
   "cell_type": "code",
   "execution_count": null,
   "metadata": {},
   "outputs": [],
   "source": [
    "print(len(df3))"
   ]
  },
  {
   "cell_type": "code",
   "execution_count": null,
   "metadata": {},
   "outputs": [],
   "source": [
    "df3.to_csv(\"diff-types-only-run.csv\")"
   ]
  },
  {
   "cell_type": "code",
   "execution_count": null,
   "metadata": {},
   "outputs": [],
   "source": [
    "df3.head()"
   ]
  },
  {
   "cell_type": "markdown",
   "metadata": {},
   "source": [
    "### Second attempt with pandas DataFrames"
   ]
  },
  {
   "cell_type": "code",
   "execution_count": 13,
   "metadata": {},
   "outputs": [],
   "source": [
    "drugbank_all_targets_df = pd.read_csv('drugbank_pharmacologically_active_targets_3Jan2021.csv', sep=',')"
   ]
  },
  {
   "cell_type": "code",
   "execution_count": 14,
   "metadata": {},
   "outputs": [
    {
     "name": "stdout",
     "output_type": "stream",
     "text": [
      "1317\n"
     ]
    },
    {
     "data": {
      "text/plain": [
       "Humans                                                                                           1095\n",
       "Escherichia coli (strain K12)                                                                      40\n",
       "Escherichia coli                                                                                    9\n",
       "Streptococcus pneumoniae serotype 4 (strain ATCC BAA-334 / TIGR4)                                   8\n",
       "Mycobacterium tuberculosis                                                                          7\n",
       "Klebsiella pneumoniae                                                                               7\n",
       "Gram positive and gram negative bacteria                                                            7\n",
       "Clostridium botulinum                                                                               7\n",
       "Yeast                                                                                               6\n",
       "Staphylococcus aureus                                                                               6\n",
       "Rabies virus (strain Pasteur vaccins / PV)                                                          5\n",
       "Haemophilus influenzae (strain ATCC 51907 / DSM 11121 / KW20 / Rd)                                  5\n",
       "Streptococcus pneumoniae (strain ATCC BAA-255 / R6)                                                 4\n",
       "Hepatitis C Virus                                                                                   4\n",
       "Human immunodeficiency virus 1                                                                      4\n",
       "Pseudomonas aeruginosa                                                                              4\n",
       "Human Cytomegalovirus                                                                               3\n",
       "Plasmodium falciparum                                                                               3\n",
       "Mycobacterium leprae (strain TN)                                                                    2\n",
       "Human cytomegalovirus (strain Towne)                                                                2\n",
       "Mycobacterium tuberculosis (strain ATCC 25618 / H37Rv)                                              2\n",
       "Pseudomonas aeruginosa (strain ATCC 15692 / PAO1 / 1C / PRS 101 / LMG 12228)                        2\n",
       "Enterobacter cloacae                                                                                2\n",
       "HHV-1                                                                                               2\n",
       "Bacillus subtilis (strain 168)                                                                      2\n",
       "Zaire ebolavirus (strain Mayinga-76)                                                                2\n",
       "Middle East respiratory syndrome-related coronavirus (isolate United Kingdom/H123990006/2012)       2\n",
       "SARS-CoV-2                                                                                          2\n",
       "Listeria monocytogenes serotype 4b str. LL195                                                       1\n",
       "Pig roundworm                                                                                       1\n",
       "                                                                                                 ... \n",
       "Staphylococcus aureus (strain MRSA252)                                                              1\n",
       "HBV-F                                                                                               1\n",
       "Influenza A virus (strain A/Chile/1/1983 H1N1)                                                      1\n",
       "Enterobacter aerogenes                                                                              1\n",
       "Anopheles gambiae                                                                                   1\n",
       "HBV-D                                                                                               1\n",
       "Canis lupus familiaris                                                                              1\n",
       "Human Immunodeficiency Virus                                                                        1\n",
       "Citrobacter freundii                                                                                1\n",
       "Salmonella typhi                                                                                    1\n",
       "Gallus gallus                                                                                       1\n",
       "Thermus thermophilus                                                                                1\n",
       "Plasmodium falciparum (isolate 3D7)                                                                 1\n",
       "HHV-4                                                                                               1\n",
       "Bacteroides thetaiotaomicron (strain ATCC 29148 / DSM 2079 / NCTC 10582 / E50 / VPI-5482)           1\n",
       "Staphylococcus aureus (strain NCTC 8325)                                                            1\n",
       "Escherichia coli O157:H7                                                                            1\n",
       "Streptococcus pyogenes serotype M1                                                                  1\n",
       "Streptomyces sp. (strain R61)                                                                       1\n",
       "Pediculus humanus                                                                                   1\n",
       "Influenza B virus (strain B/Beijing/1/1987)                                                         1\n",
       "Influenza A virus (strain A/Silky Chicken/Hong Kong/SF189/2001 H5N1 genotype A)                     1\n",
       "Neisseria gonorrhoeae                                                                               1\n",
       "Thermus thermophilus (strain HB8 / ATCC 27634 / DSM 579)                                            1\n",
       "Mouse                                                                                               1\n",
       "Helicobacter pylori (strain ATCC 700392 / 26695)                                                    1\n",
       "Aspergillus niger (strain CBS 513.88 / FGSC A1513)                                                  1\n",
       "Helicobacter pylori                                                                                 1\n",
       "Hepatitis C virus genotype 1b (isolate BK)                                                          1\n",
       "Baker's yeast                                                                                       1\n",
       "Name: Species, Length: 91, dtype: int64"
      ]
     },
     "execution_count": 14,
     "metadata": {},
     "output_type": "execute_result"
    }
   ],
   "source": [
    "print(len(drugbank_all_targets_df))\n",
    "drugbank_all_targets_df['Species'].value_counts()"
   ]
  },
  {
   "cell_type": "code",
   "execution_count": 15,
   "metadata": {},
   "outputs": [
    {
     "name": "stdout",
     "output_type": "stream",
     "text": [
      "1095\n"
     ]
    },
    {
     "data": {
      "text/plain": [
       "Humans    1095\n",
       "Name: Species, dtype: int64"
      ]
     },
     "execution_count": 15,
     "metadata": {},
     "output_type": "execute_result"
    }
   ],
   "source": [
    "drugbank_human_targets_df = drugbank_all_targets_df[drugbank_all_targets_df['Species'] == 'Humans'].copy()\n",
    "print(len(drugbank_human_targets_df))\n",
    "drugbank_human_targets_df['Species'].value_counts()"
   ]
  },
  {
   "cell_type": "code",
   "execution_count": null,
   "metadata": {},
   "outputs": [],
   "source": [
    "# all_rows = list()\n",
    "\n",
    "# drug_groups = [\n",
    "#     'approved',\n",
    "#     'investigational',\n",
    "#     'withdrawn'\n",
    "# ]\n",
    "\n",
    "# def process_drug_info(list_of_drugs, modality):\n",
    "#     my_list = list()\n",
    "#     for drug in list_of_drugs:\n",
    "#         if isinstance(drug, str):\n",
    "#             pass\n",
    "#         else:\n",
    "# #             if drug['type'] == modality and any(group in drug_groups for group in drug['groups']):\n",
    "#             if drug['type'] == modality:\n",
    "#                 my_list.append(drug)\n",
    "#     return my_list\n",
    "\n",
    "# for index, row in drugbank_human_targets_df.iterrows():\n",
    "#     entry = {}\n",
    "#     entry['symbol'] = row['Gene Name']\n",
    "#     entry['accession'] = row['UniProt ID']\n",
    "#     drug_ids = row['Drug IDs'].split('; ')\n",
    "#     all_drugs = [(next((drug for drug in rows if drug['drugbank_id'] == x), \"Entry N/A for \" + x)) for x in drug_ids]\n",
    "#     entry['all_drugs'] = all_drugs\n",
    "#     entry['small_molecule_drugs_in_clinic'] = process_drug_info(all_drugs, 'small molecule') \n",
    "#     entry['antibody_drugs_in_clinic'] = process_drug_info(all_drugs, 'antibody')\n",
    "#     entry['other_drugs_in_clinic'] = process_drug_info(all_drugs, 'other')\n",
    "#     entry['is_small_molecule_in_clinic'] = True if len(entry['small_molecule_drugs_in_clinic']) > 0 else False\n",
    "#     entry['is_antibody_in_clinic'] = True if len(entry['antibody_drugs_in_clinic']) > 0 else False\n",
    "#     entry['is_other_in_clinic'] = True if len(entry['other_drugs_in_clinic']) > 0 else False\n",
    "#     all_rows.append(entry)"
   ]
  },
  {
   "cell_type": "code",
   "execution_count": 16,
   "metadata": {},
   "outputs": [],
   "source": [
    "all_rows = list()\n",
    "\n",
    "clinic_drug_groups = [\n",
    "    'approved',\n",
    "    'investigational',\n",
    "    'withdrawn'\n",
    "]\n",
    "\n",
    "def filter_drug_list(list_of_drugs, modality):\n",
    "    my_list = list()\n",
    "    for drug in list_of_drugs:\n",
    "        drug_groups = drug['groups']\n",
    "        if any(group in drug_groups for group in clinic_drug_groups):\n",
    "            if drug['type'] == modality:\n",
    "                my_list.append(drug)\n",
    "    return my_list\n",
    "\n",
    "def handle_no_drug_data(drug_id):\n",
    "    drug_obj = {\n",
    "        'drugbank_id': drug_id,\n",
    "        'name': 'unknown',\n",
    "        'type': 'unknown',\n",
    "        'groups': 'unknown',\n",
    "    }\n",
    "    return drug_obj\n",
    "    \n",
    "for index, row in drugbank_human_targets_df.iterrows():\n",
    "    entry = {}\n",
    "    entry['db_symbol'] = row['Gene Name']\n",
    "    entry['accession'] = row['UniProt ID']\n",
    "    drug_ids = row['Drug IDs'].split('; ')\n",
    "    all_drugs = [(next((drug for drug in rows if drug['drugbank_id'] == x), handle_no_drug_data(x))) for x in drug_ids]\n",
    "    entry['db_all_drugs_in_clinic'] = all_drugs\n",
    "    entry['db_small_molecule_drugs_in_clinic'] = filter_drug_list(all_drugs, 'small molecule') \n",
    "    entry['db_antibody_drugs_in_clinic'] = filter_drug_list(all_drugs, 'antibody')\n",
    "    entry['db_other_drugs_in_clinic'] = filter_drug_list(all_drugs, 'other')\n",
    "    entry['db_is_small_molecule_in_clinic'] = True if len(entry['db_small_molecule_drugs_in_clinic']) > 0 else False\n",
    "    entry['db_is_antibody_in_clinic'] = True if len(entry['db_antibody_drugs_in_clinic']) > 0 else False\n",
    "    entry['db_is_other_in_clinic'] = True if len(entry['db_other_drugs_in_clinic']) > 0 else False\n",
    "    all_rows.append(entry)"
   ]
  },
  {
   "cell_type": "code",
   "execution_count": 17,
   "metadata": {},
   "outputs": [],
   "source": [
    "df2 = pd.DataFrame(all_rows)"
   ]
  },
  {
   "cell_type": "code",
   "execution_count": 18,
   "metadata": {},
   "outputs": [],
   "source": [
    "reordered_columns = [\n",
    "    'accession',\n",
    "    'db_symbol',\n",
    "    'db_is_small_molecule_in_clinic',\n",
    "    'db_is_antibody_in_clinic',\n",
    "    'db_is_other_in_clinic',\n",
    "    'db_small_molecule_drugs_in_clinic',\n",
    "    'db_antibody_drugs_in_clinic',\n",
    "    'db_other_drugs_in_clinic',\n",
    "    'db_all_drugs_in_clinic',\n",
    "]"
   ]
  },
  {
   "cell_type": "code",
   "execution_count": 19,
   "metadata": {},
   "outputs": [],
   "source": [
    "df_for_csv_export = df2[reordered_columns].copy()\n",
    "df_for_csv_export.to_csv('drugbank-clinical-targets-drugs-3Jan2021-data.csv')"
   ]
  },
  {
   "cell_type": "code",
   "execution_count": null,
   "metadata": {},
   "outputs": [],
   "source": []
  }
 ],
 "metadata": {
  "kernelspec": {
   "display_name": "Python 3",
   "language": "python",
   "name": "python3"
  },
  "language_info": {
   "codemirror_mode": {
    "name": "ipython",
    "version": 3
   },
   "file_extension": ".py",
   "mimetype": "text/x-python",
   "name": "python",
   "nbconvert_exporter": "python",
   "pygments_lexer": "ipython3",
   "version": "3.6.5"
  }
 },
 "nbformat": 4,
 "nbformat_minor": 2
}
